{
 "cells": [
  {
   "cell_type": "markdown",
   "metadata": {},
   "source": [
    "# CarbonPlan Reports API Demo\n",
    "\n",
    "This notebook demonstrates how to use CarbonPlan's API to access and analyze project reports."
   ]
  },
  {
   "cell_type": "code",
   "execution_count": 1,
   "metadata": {},
   "outputs": [],
   "source": [
    "import requests\n",
    "import pandas as pd\n",
    "import altair as alt\n",
    "\n",
    "from IPython.display import JSON"
   ]
  },
  {
   "cell_type": "markdown",
   "metadata": {},
   "source": [
    "### Schema\n",
    "\n",
    "All API access is over HTTPS, and accessed from https://api.carbonplan.now.sh. All data is sent and received as JSON. The full schema is available via the API: "
   ]
  },
  {
   "cell_type": "code",
   "execution_count": 2,
   "metadata": {},
   "outputs": [
    {
     "data": {
      "application/json": {
       "objects": [
        "ProjectCollection",
        "Project",
        "Metric"
       ]
      },
      "text/plain": [
       "<IPython.core.display.JSON object>"
      ]
     },
     "execution_count": 2,
     "metadata": {
      "application/json": {
       "expanded": false,
       "root": "root"
      }
     },
     "output_type": "execute_result"
    }
   ],
   "source": [
    "schema = requests.get('https://api.carbonplan.now.sh/schema/').json()\n",
    "\n",
    "# list objects defined in CarbonPlan's schema\n",
    "schema['objects']\n",
    "JSON(schema)"
   ]
  },
  {
   "cell_type": "code",
   "execution_count": 3,
   "metadata": {},
   "outputs": [
    {
     "data": {
      "application/json": {
       "$id": "https://api.carbonplan.org/schema/ProjectCollection.json",
       "$schema": "http://json-schema.org/draft-07/schema#",
       "projects": {
        "items": {
         "properties": {
          "description": {
           "type": "string"
          },
          "geometry": {
           "type": {
            "oneOf": [
             {
              "type": "null"
             },
             {
              "properties": {
               "bbox": {
                "items": {
                 "type": "number"
                },
                "minItems": 4,
                "type": "array"
               },
               "coordinates": {
                "items": {
                 "type": "number"
                },
                "minItems": 2,
                "type": "array"
               },
               "type": {
                "enum": [
                 "Point"
                ],
                "type": "string"
               }
              },
              "required": [
               "type",
               "coordinates"
              ],
              "title": "GeoJSON Point",
              "type": "object"
             },
             {
              "properties": {
               "bbox": {
                "items": {
                 "type": "number"
                },
                "minItems": 4,
                "type": "array"
               },
               "coordinates": {
                "items": {
                 "items": {
                  "type": "number"
                 },
                 "minItems": 2,
                 "type": "array"
                },
                "minItems": 2,
                "type": "array"
               },
               "type": {
                "enum": [
                 "LineString"
                ],
                "type": "string"
               }
              },
              "required": [
               "type",
               "coordinates"
              ],
              "title": "GeoJSON LineString",
              "type": "object"
             },
             {
              "properties": {
               "bbox": {
                "items": {
                 "type": "number"
                },
                "minItems": 4,
                "type": "array"
               },
               "coordinates": {
                "items": {
                 "items": {
                  "items": {
                   "type": "number"
                  },
                  "minItems": 2,
                  "type": "array"
                 },
                 "minItems": 4,
                 "type": "array"
                },
                "type": "array"
               },
               "type": {
                "enum": [
                 "Polygon"
                ],
                "type": "string"
               }
              },
              "required": [
               "type",
               "coordinates"
              ],
              "title": "GeoJSON Polygon",
              "type": "object"
             },
             {
              "properties": {
               "bbox": {
                "items": {
                 "type": "number"
                },
                "minItems": 4,
                "type": "array"
               },
               "coordinates": {
                "items": {
                 "items": {
                  "type": "number"
                 },
                 "minItems": 2,
                 "type": "array"
                },
                "type": "array"
               },
               "type": {
                "enum": [
                 "MultiPoint"
                ],
                "type": "string"
               }
              },
              "required": [
               "type",
               "coordinates"
              ],
              "title": "GeoJSON MultiPoint",
              "type": "object"
             },
             {
              "properties": {
               "bbox": {
                "items": {
                 "type": "number"
                },
                "minItems": 4,
                "type": "array"
               },
               "coordinates": {
                "items": {
                 "items": {
                  "items": {
                   "type": "number"
                  },
                  "minItems": 2,
                  "type": "array"
                 },
                 "minItems": 2,
                 "type": "array"
                },
                "type": "array"
               },
               "type": {
                "enum": [
                 "MultiLineString"
                ],
                "type": "string"
               }
              },
              "required": [
               "type",
               "coordinates"
              ],
              "title": "GeoJSON MultiLineString",
              "type": "object"
             },
             {
              "properties": {
               "bbox": {
                "items": {
                 "type": "number"
                },
                "minItems": 4,
                "type": "array"
               },
               "coordinates": {
                "items": {
                 "items": {
                  "items": {
                   "items": {
                    "type": "number"
                   },
                   "minItems": 2,
                   "type": "array"
                  },
                  "minItems": 4,
                  "type": "array"
                 },
                 "type": "array"
                },
                "type": "array"
               },
               "type": {
                "enum": [
                 "MultiPolygon"
                ],
                "type": "string"
               }
              },
              "required": [
               "type",
               "coordinates"
              ],
              "title": "GeoJSON MultiPolygon",
              "type": "object"
             },
             {
              "properties": {
               "bbox": {
                "items": {
                 "type": "number"
                },
                "minItems": 4,
                "type": "array"
               },
               "geometries": {
                "items": {
                 "oneOf": [
                  {
                   "properties": {
                    "bbox": {
                     "items": {
                      "type": "number"
                     },
                     "minItems": 4,
                     "type": "array"
                    },
                    "coordinates": {
                     "items": {
                      "type": "number"
                     },
                     "minItems": 2,
                     "type": "array"
                    },
                    "type": {
                     "enum": [
                      "Point"
                     ],
                     "type": "string"
                    }
                   },
                   "required": [
                    "type",
                    "coordinates"
                   ],
                   "title": "GeoJSON Point",
                   "type": "object"
                  },
                  {
                   "properties": {
                    "bbox": {
                     "items": {
                      "type": "number"
                     },
                     "minItems": 4,
                     "type": "array"
                    },
                    "coordinates": {
                     "items": {
                      "items": {
                       "type": "number"
                      },
                      "minItems": 2,
                      "type": "array"
                     },
                     "minItems": 2,
                     "type": "array"
                    },
                    "type": {
                     "enum": [
                      "LineString"
                     ],
                     "type": "string"
                    }
                   },
                   "required": [
                    "type",
                    "coordinates"
                   ],
                   "title": "GeoJSON LineString",
                   "type": "object"
                  },
                  {
                   "properties": {
                    "bbox": {
                     "items": {
                      "type": "number"
                     },
                     "minItems": 4,
                     "type": "array"
                    },
                    "coordinates": {
                     "items": {
                      "items": {
                       "items": {
                        "type": "number"
                       },
                       "minItems": 2,
                       "type": "array"
                      },
                      "minItems": 4,
                      "type": "array"
                     },
                     "type": "array"
                    },
                    "type": {
                     "enum": [
                      "Polygon"
                     ],
                     "type": "string"
                    }
                   },
                   "required": [
                    "type",
                    "coordinates"
                   ],
                   "title": "GeoJSON Polygon",
                   "type": "object"
                  },
                  {
                   "properties": {
                    "bbox": {
                     "items": {
                      "type": "number"
                     },
                     "minItems": 4,
                     "type": "array"
                    },
                    "coordinates": {
                     "items": {
                      "items": {
                       "type": "number"
                      },
                      "minItems": 2,
                      "type": "array"
                     },
                     "type": "array"
                    },
                    "type": {
                     "enum": [
                      "MultiPoint"
                     ],
                     "type": "string"
                    }
                   },
                   "required": [
                    "type",
                    "coordinates"
                   ],
                   "title": "GeoJSON MultiPoint",
                   "type": "object"
                  },
                  {
                   "properties": {
                    "bbox": {
                     "items": {
                      "type": "number"
                     },
                     "minItems": 4,
                     "type": "array"
                    },
                    "coordinates": {
                     "items": {
                      "items": {
                       "items": {
                        "type": "number"
                       },
                       "minItems": 2,
                       "type": "array"
                      },
                      "minItems": 2,
                      "type": "array"
                     },
                     "type": "array"
                    },
                    "type": {
                     "enum": [
                      "MultiLineString"
                     ],
                     "type": "string"
                    }
                   },
                   "required": [
                    "type",
                    "coordinates"
                   ],
                   "title": "GeoJSON MultiLineString",
                   "type": "object"
                  },
                  {
                   "properties": {
                    "bbox": {
                     "items": {
                      "type": "number"
                     },
                     "minItems": 4,
                     "type": "array"
                    },
                    "coordinates": {
                     "items": {
                      "items": {
                       "items": {
                        "items": {
                         "type": "number"
                        },
                        "minItems": 2,
                        "type": "array"
                       },
                       "minItems": 4,
                       "type": "array"
                      },
                      "type": "array"
                     },
                     "type": "array"
                    },
                    "type": {
                     "enum": [
                      "MultiPolygon"
                     ],
                     "type": "string"
                    }
                   },
                   "required": [
                    "type",
                    "coordinates"
                   ],
                   "title": "GeoJSON MultiPolygon",
                   "type": "object"
                  }
                 ]
                },
                "type": "array"
               },
               "type": {
                "enum": [
                 "GeometryCollection"
                ],
                "type": "string"
               }
              },
              "required": [
               "type",
               "geometries"
              ],
              "title": "GeoJSON GeometryCollection",
              "type": "object"
             }
            ]
           }
          },
          "id": {
           "type": "string"
          },
          "metrics": {
           "items": {
            "properties": {
             "comment": {
              "type": "string"
             },
             "name": {
              "type": "string"
             },
             "rating": {
              "type": "string"
             },
             "type": {
              "enum": [
               "Metric"
              ],
              "type": "string"
             },
             "units": {
              "type": "string"
             },
             "value": {
              "type": "number"
             }
            },
            "required": [
             "type",
             "name",
             "value",
             "units"
            ],
            "title": "CarbonPlan Metric",
            "type": "object"
           },
           "type": "array"
          },
          "name": {
           "type": "string"
          },
          "tags": {
           "items": {
            "type": "string"
           },
           "type": "array"
          },
          "type": {
           "enum": [
            "Project"
           ],
           "type": "string"
          }
         },
         "required": [
          "type",
          "name",
          "metrics",
          "geometry",
          "tags",
          "id",
          "description"
         ],
         "title": "CarbonPlan Project",
         "type": "object"
        },
        "type": "array"
       },
       "properties": {
        "type": {
         "enum": [
          "ProjectCollection"
         ],
         "type": "string"
        }
       },
       "required": [
        "type",
        "projects"
       ],
       "title": "CarbonPlan ProjectCollection",
       "type": "object"
      },
      "text/plain": [
       "<IPython.core.display.JSON object>"
      ]
     },
     "execution_count": 3,
     "metadata": {
      "application/json": {
       "expanded": false,
       "root": "root"
      }
     },
     "output_type": "execute_result"
    }
   ],
   "source": [
    "# or get the full schema for a specific object\n",
    "schema = requests.get('https://api.carbonplan.now.sh/schema/ProjectCollection.json').json()\n",
    "JSON(schema)"
   ]
  },
  {
   "cell_type": "markdown",
   "metadata": {},
   "source": [
    "### Projects\n",
    "\n",
    "CarbonPlan's full ProjectCollection is available at https://api.carbonplan.now.sh/projects:"
   ]
  },
  {
   "cell_type": "code",
   "execution_count": 4,
   "metadata": {},
   "outputs": [
    {
     "data": {
      "application/json": {
       "projects": [
        {
         "description": "Direct air capture and mineralization.",
         "geometry": {
          "type": null
         },
         "id": "STRP01",
         "location": {
          "geometry": {
           "type": null
          },
          "name": "Iceland"
         },
         "metrics": [
          {
           "avoided": 0,
           "comment": "",
           "name": "mechanism",
           "notes": "Remove carbon from the atmosphere using a solid chemical sorbent and thermal swing. Carbon dioxide from that process is geologically sequestered in mineral form.",
           "rating": 1,
           "removal": 1,
           "type": "Metric",
           "units": "",
           "value": ""
          },
          {
           "comment": "Scale of volume is commensurate with published sorbent technology.",
           "name": "volume",
           "notes": "Volume based on the annual capacity of a pilot plant in Iceland commissioned in October 2017. Larger-scale plants are under construction that may have larger volume.",
           "rating": 1,
           "type": "Metric",
           "units": "tCO2",
           "value": 50
          },
          {
           "comment": "Minimal justification provided, and detailed assessment in collaboration with research group is pending publication. Low ratio likely depends on availability of low-carbon energy in Iceland.",
           "emissions": 0.1,
           "kind": "ratio",
           "name": "negativity",
           "notes": "Claims total emissions are 0.1 tCO2 for every 1 tCO2 removed.",
           "rating": 0,
           "removal": 1,
           "type": "Metric",
           "units": "",
           "value": 0.9
          },
          {
           "comment": "Successful mineralization produces reliable, effectively permanent carbon storage.",
           "name": "permanence",
           "notes": "",
           "rating": 1,
           "type": "Metric",
           "units": "years",
           "value": 1000
          },
          {
           "comment": "Project is already fully subscribed, so any new investments are better construed as investments in future projects rather than fully additional procurements.",
           "name": "additionality",
           "notes": "Counterfactual not applicable.",
           "rating": "",
           "type": "Metric",
           "units": "",
           "value": 2
          },
          {
           "comment": "Commensurate with other early stage DAC costs on a $/tCO2 basis. Could be independently verified as a function of technology parameters and energy sources.",
           "name": "cost",
           "notes": "",
           "rating": 1,
           "type": "Metric",
           "units": "$/tCO2",
           "value": 767.5
          },
          {
           "comment": "Publications on LCA are pending and no publications or public datasets on technology are avaialble.",
           "name": "transparency",
           "notes": "",
           "rating": "",
           "type": "Metric",
           "units": "",
           "value": 1
          }
         ],
         "name": "Climeworks",
         "score": "9",
         "source": {
          "name": "Stripe Decrement 2020",
          "url": "https://stripe.com/climate"
         },
         "tags": [
          "dac",
          "mineralization"
         ],
         "type": "Project"
        },
        {
         "description": "Carbon reductions in concrete.",
         "geometry": {
          "type": null
         },
         "id": "STRP02",
         "location": {
          "geometry": {
           "type": null
          },
          "name": "North America"
         },
         "metrics": [
          {
           "avoided": 1,
           "comment": "",
           "name": "mechanism",
           "notes": "Removes carbon from the atmophere for sequestration in mineralized building materials, and also reduces emissions associated with conventional concrete production.",
           "rating": 1,
           "removal": 0,
           "type": "Metric",
           "units": "",
           "value": ""
          },
          {
           "comment": "Reporting 60k as an estimate of current annual volume. Total claimed reduction combines direct sequestration and avoided emissions. Based on ratios provided in LCA, we infer 1,126 total tCO2 removed and 58,874 tCO2 avoided, though we have not validated this breakdown based on specific project parameters.",
           "name": "volume",
           "notes": "Volume reflects 200 cement production facilities using technology. Claims 60,000 tCO2 removed in previous years and 60,000 tCO2 removed in 2020. Every 1 tCO2 used results in 0.85 tCO2 mineralized and 44.45 tCO2 avoided by reducing conventional concrete production emissions from 0.263 tCO​2​ / m3​ to 0.220 tCO​2​ / m​3.",
           "rating": 1,
           "type": "Metric",
           "units": "tCO2",
           "value": 60000
          },
          {
           "comment": "For consistency, we recompute negativity only for the carbon removal component, yielding a lower number. LCA boundary conditions are well specified, and several third-party audits of the LCA analysis have been performed.",
           "emissions": 0.15,
           "kind": "ratio",
           "name": "negativity",
           "notes": "Claims 0.85 tCO2 mineralized and 0.15 tCO2 emitted for every 1 tCO2. Reported ratio of 0.9967 also includes an additional 44.45 tCO2 in avoided emissions arising from its product replacing conventional concrete.",
           "rating": 1,
           "removal": 0.85,
           "type": "Metric",
           "units": "",
           "value": 0.824
          },
          {
           "comment": "Successful mineralization produces reliable, effectively permanent carbon storage.",
           "name": "permanence",
           "notes": "",
           "rating": 1,
           "type": "Metric",
           "units": "years",
           "value": 1000
          },
          {
           "comment": "Project appears to be monetizing the environmental attributes of cement already sold to others.",
           "name": "additionality",
           "notes": "Counterfactual not specified.",
           "rating": "",
           "type": "Metric",
           "units": "",
           "value": 1
          },
          {
           "comment": "Amount charged specifically for carbon removal is arbitrarily set to incentize utilization of the product, which is already economically favorable.",
           "name": "cost",
           "notes": "",
           "rating": 1,
           "type": "Metric",
           "units": "$/tCO2",
           "value": 100
          },
          {
           "comment": "No publications on primary techology, but references to several third-party LCAs available upon request.",
           "name": "transparency",
           "notes": "",
           "rating": "",
           "type": "Metric",
           "units": "",
           "value": 1
          }
         ],
         "name": "CarbonCure",
         "score": "9",
         "source": {
          "name": "Stripe Decrement 2020",
          "url": "https://stripe.com/climate"
         },
         "tags": [
          "mineralization",
          "building materials"
         ],
         "type": "Project"
        },
        {
         "description": "Increasing soil carbon sequestration and soil health.",
         "geometry": {
          "type": null
         },
         "id": "STRP03",
         "location": {
          "geometry": {
           "type": null
          },
          "name": "USA"
         },
         "metrics": [
          {
           "avoided": 0,
           "comment": "Multiple established soil carbon removal pathways exist, but none are specified for the specific project. Nori only identifies that the project uses its Nori Croplands methodlogy, and Section 2.3 of Version 1.1 specifies five potential categories of cropland-related soil carbon management.",
           "name": "mechanism",
           "notes": "Broker that facilitates removal of carbon from the atmosphere by incentivizing changes in agricultural practices that increase sequestration in soils.",
           "rating": 0,
           "removal": 1,
           "type": "Metric",
           "units": "",
           "value": ""
          },
          {
           "comment": "Project locations are specified and COMET-Farm is a publicaly available tool, but volumes are difficult to independently validate without transparency around model parameters used, or complete plot details. Inspection of exemplar plots suggests sequestration totals of 6-11 tCO2/ha, but it is unclear what time duration this represents.",
           "name": "volume",
           "notes": "Volume based on a single supplier, Harborview Farms, which includes 27 plots totaling 14,011 tCO2. Volumes calculated using USDA COMET-Farm model, using project-level data collected by Nori. The Nori platform offers a larger portfolio of projects, but they are not considered here.",
           "rating": 0,
           "type": "Metric",
           "units": "tCO2",
           "value": 14011
          },
          {
           "comment": "Emissions information ought to be available in the COMET-Farm model outputs, but cannot be reproduced as model parameters are not publicly available.",
           "emissions": "N/A",
           "kind": "N/A",
           "name": "negativity",
           "notes": "No data provided, but high likelihood it will vary across projects. Claimed guarantee that negativity will be greater than 0.",
           "rating": 0,
           "removal": "N/A",
           "type": "Metric",
           "units": "",
           "value": "N/A"
          },
          {
           "comment": "Soil carbon storage can last for decades or more, but it can also be reversed by changes to land use or management practices. Nori requires a 10-year contractual commitment from its projects. so we report the minimum of the contractual agreement and the biogephysical reality.",
           "name": "permanence",
           "notes": "",
           "rating": 1,
           "type": "Metric",
           "units": "years",
           "value": 10
          },
          {
           "comment": "Changes to land management practices not specified. Significant co-benefits to land managers claimed alongside climate benefits offered for sale.",
           "name": "additionality",
           "notes": "Counterfactual not specified.",
           "rating": "",
           "type": "Metric",
           "units": "",
           "value": 0
          },
          {
           "comment": "Set by the supplier and additionally includes a 10% fee. Commensurate with (or lower than) existing soil carbon project cost estimates.",
           "name": "cost",
           "notes": "",
           "rating": 1,
           "type": "Metric",
           "units": "$/tCO2",
           "value": 16.5
          },
          {
           "comment": "Volume and LCA methods based on the public and peer-reviewed COMET-Farm model, but specific project parameters are not made public so analysis and quantification cannot be reproduced.",
           "name": "transparency",
           "notes": "",
           "rating": "",
           "type": "Metric",
           "units": "",
           "value": 1
          }
         ],
         "name": "Nori Harborview Farms",
         "score": "6",
         "source": {
          "name": "Stripe Decrement 2020",
          "url": "https://stripe.com/climate"
         },
         "tags": [
          "soil",
          "broker"
         ],
         "type": "Project"
        },
        {
         "description": "Rgenerative farming practices for soil carbon sequestration.",
         "geometry": {
          "type": null
         },
         "id": "STRP04",
         "location": {
          "geometry": {
           "type": null
          },
          "name": "Mid-West and Southern USA"
         },
         "metrics": [
          {
           "avoided": 0,
           "comment": "Difficult to assess projects' specific removal mechanisms without more transparency. Multiple established soil carbon removal pathways exist, but none are specified in public proposal.",
           "name": "mechanism",
           "notes": "Broker that facilitates removal of carbon from the atmosphere by incentivizing changes in agricultural practices that increase sequestration in soils.",
           "rating": 0,
           "removal": 1,
           "type": "Metric",
           "units": "",
           "value": ""
          },
          {
           "comment": "We report the average of the range. Validation of volume would at a minimum require public information on specific projects, and values are only plausible under a significant scale of participation. Carbon crediting methodology from Verra not specified, and carbon crediting methodology from Climate Action Reserve not yet released in draft form for public comment.",
           "name": "volume",
           "notes": "Range of 100k-1M tCO2 based on potential participants in program.",
           "rating": -1,
           "type": "Metric",
           "units": "tCO2",
           "value": 550000
          },
          {
           "comment": "Nothing to say without more information.",
           "emissions": "N/A",
           "kind": "N/A",
           "name": "negativity",
           "notes": "No data provided.",
           "rating": 0,
           "removal": "N/A",
           "type": "Metric",
           "units": "",
           "value": "N/A"
          },
          {
           "comment": "Soil carbon storage can be reversed by changed land practices. Payment schemes may incentive prevention of reversals, but no information is available about the duration of contractual or other legal obligations to maintain soil carbon practices. Project cites two protocol development processes ongoing at the Climate Action Reserve and Verra, but neither is currently complete or public.",
           "name": "permanence",
           "notes": "",
           "rating": -1,
           "type": "Metric",
           "units": "years",
           "value": 100
          },
          {
           "comment": "Changes to land management practices not specified. Significant co-benefits to land managers claimed alongside climate benefits offered for sale.",
           "name": "additionality",
           "notes": "Counterfactual not specified.",
           "rating": "",
           "type": "Metric",
           "units": "",
           "value": 0
          },
          {
           "comment": "Includes 75% for farmers and 25% for monitoring, reporting, and verification work. Cost to farmers is commensurate with (or lower than) existing soil carbon project cost estimates, but justification of monitoring costs are not provided.",
           "name": "cost",
           "notes": "",
           "rating": 0,
           "type": "Metric",
           "units": "$/tCO2",
           "value": 20
          },
          {
           "comment": "No data on specific projects are publicly available, and methods and protocols are not publicly available.",
           "name": "transparency",
           "notes": "",
           "rating": "",
           "type": "Metric",
           "units": "",
           "value": 0
          }
         ],
         "name": "IndigoAg",
         "score": "2",
         "source": {
          "name": "Stripe Decrement 2020",
          "url": "https://stripe.com/climate"
         },
         "tags": [
          "soil",
          "broker"
         ],
         "type": "Project"
        },
        {
         "description": "Supporting bio-energy with carbon capture and storage.",
         "geometry": {
          "type": null
         },
         "id": "STRP05",
         "location": {
          "geometry": {
           "type": null
          },
          "name": "North America / Europe"
         },
         "metrics": [
          {
           "avoided": 1,
           "comment": "",
           "name": "mechanism",
           "notes": "Facilitates late-stage BECCS projects, which avoid emissions from biogenic carbon sources and instead capture it for geologic sequestration in rocks' pore space.",
           "rating": 1,
           "removal": 1,
           "type": "Metric",
           "units": "",
           "value": ""
          },
          {
           "comment": "No public details available on any specific projects, but overall volume reasonable given technology. No specifics available to distinguish relative amounts of removal vs avoided emissions.",
           "name": "volume",
           "notes": "",
           "rating": 0,
           "type": "Metric",
           "units": "tCO2",
           "value": 50000
          },
          {
           "comment": "No information provided on specific projects. Based on provided data, lifecycle emisisons do not include injection, and appear to exclude biogenic CO2 emissions not captured from production process. Possible uses for enhanced oil recovery would affect overall lifecycle emissions. Lacking more details, we report the lowest, most conservative ratio.",
           "emissions": "N/A",
           "kind": "N/A",
           "name": "negativity",
           "notes": "Range expected to vary across sites from 0.9 to 0.995.",
           "rating": 0,
           "removal": "N/A",
           "type": "Metric",
           "units": "",
           "value": 0.9
          },
          {
           "comment": "Successful geologic sequestration produces reliable, effectively permanent carbon storage.",
           "name": "permanence",
           "notes": "",
           "rating": 1,
           "type": "Metric",
           "units": "years",
           "value": 1000
          },
          {
           "comment": "No detail provided. BECCS projects are likely additioinal, but additionality depends on the economics of any applicable tax credits or policy incentives.",
           "name": "additionality",
           "notes": "Counterfactual not specified.",
           "rating": "",
           "type": "Metric",
           "units": "",
           "value": 1
          },
          {
           "comment": "Cost commensurate with existing estimates for BECCS.",
           "name": "cost",
           "notes": "",
           "rating": 1,
           "type": "Metric",
           "units": "$/tCO2",
           "value": 99
          },
          {
           "comment": "No data on specific projects, no publications on technologies, and no references or third-party analyses for LCA.",
           "name": "transparency",
           "notes": "",
           "rating": "",
           "type": "Metric",
           "units": "",
           "value": 0
          }
         ],
         "name": "Biorecro",
         "score": "6",
         "source": {
          "name": "Stripe Decrement 2020",
          "url": "https://stripe.com/climate"
         },
         "tags": [
          "biomass",
          "beccs"
         ],
         "type": "Project"
        },
        {
         "description": "Turning woody biomass waste into biochar.",
         "geometry": {
          "type": null
         },
         "id": "STRP06",
         "location": {
          "geometry": {
           "type": null
          },
          "name": "Central Valley, CA, USA"
         },
         "metrics": [
          {
           "avoided": 1,
           "comment": "",
           "name": "mechanism",
           "notes": "Avoids emissions from decomposing biomass resources and transforms them into long-lived biochar materials.",
           "rating": 1,
           "removal": 0,
           "type": "Metric",
           "units": "",
           "value": ""
          },
          {
           "comment": "Volume is based on producing 20 tC of biochar with fraction C of at least 85%.",
           "name": "volume",
           "notes": "Demonstration project in California's central valley, converting walnut shell waste into biochar.",
           "rating": 0,
           "type": "Metric",
           "units": "tCO2",
           "value": 62
          },
          {
           "comment": "Few details provided on LCA.",
           "emissions": "N/A",
           "kind": "N/A",
           "name": "negativity",
           "notes": "Biogenic CO2 emissions are excluded from ratio.",
           "rating": 0,
           "removal": "N/A",
           "type": "Metric",
           "units": "",
           "value": 0.965
          },
          {
           "comment": "Permanence of biochar depends on chemical composition, storage conditons, and other factors. Using the reported O:C ratio of 0.08 we estimate 100 years as the duration during which 90% of biochar C remains.",
           "name": "permanence",
           "notes": "Claims 100 years or more.",
           "rating": 1,
           "type": "Metric",
           "units": "years",
           "value": 100
          },
          {
           "comment": "Feedstock is walnut shells that are otherwise dumped on the ground or on roads, e.g. for dust reduction purposes. No analysis provided of competing uses for feedstock.",
           "name": "additionality",
           "notes": "Counterfactual is dumping walnut shells on ground or burning in biomass electricity plant.",
           "rating": "",
           "type": "Metric",
           "units": "",
           "value": 1
          },
          {
           "comment": "Notably higher than other biochar projects without justification.",
           "name": "cost",
           "notes": "",
           "rating": 0,
           "type": "Metric",
           "units": "$/tCO2",
           "value": 1000
          },
          {
           "comment": "Minimal public data on project specifics and no publications or public data on underlying process.",
           "name": "transparency",
           "notes": "",
           "rating": "",
           "type": "Metric",
           "units": "",
           "value": 0
          }
         ],
         "name": "Carbo Culture",
         "score": "6",
         "source": {
          "name": "Stripe Decrement 2020",
          "url": "https://stripe.com/climate"
         },
         "tags": [
          "biomass",
          "biochar"
         ],
         "type": "Project"
        },
        {
         "description": "Reforestation using drone swarms and seed enablement.",
         "geometry": {
          "type": null
         },
         "id": "STRP07",
         "location": {
          "geometry": {
           "type": null
          },
          "name": "WA, USA"
         },
         "metrics": [
          {
           "avoided": 0,
           "comment": "",
           "name": "mechanism",
           "notes": "Drone technology accelerates reforestation to remove carbon from atmosphere for sequestration in forests.",
           "rating": 1,
           "removal": 1,
           "type": "Metric",
           "units": "",
           "value": ""
          },
          {
           "comment": "Independently validated for consistency with U.S. Forest Service yield tables, assuming Ponderosa Pine in Pacific Northwest, East and project size of 211 ha. Note that project materials list both 584 and 510 for the same project; we use the latter because the project's technical documentation uses the lower number.",
           "name": "volume",
           "notes": "Volume based on a pilot project in the Pacific Northwest, East. Volume stated as computed using Climate Action Reserve's Climate Forward Reforestation Forecast Methodology Version 1.0, which appears in this case to use direct projections based on USFS yield tables for Ponderosa Pine. Claim is 510 tCO2 in the first year (2020) and 64,031 tCO2 over 100 years.",
           "rating": 1,
           "type": "Metric",
           "units": "tCO2",
           "value": 510
          },
          {
           "comment": "Boundary conditions well specified and drone-related emissions seem thoroughly documented.",
           "emissions": 8.6,
           "kind": "project",
           "name": "negativity",
           "notes": "Reported ratio based on sequestration only in 2020 but the estimated 8.6 tCO2 emissions are fixed over entire project lifetime. Considering carbon removed over the full project lifetime would increase the ratio to 1.000.",
           "rating": 1,
           "removal": 510,
           "type": "Metric",
           "units": "",
           "value": 0.983
          },
          {
           "comment": "We report 51 as the minimum of the claimed range. Location may have high risk for wildfire and insects, detailed quantification pending exact location. Stated minimum time horizon could be better assured through contractual agreements with buyers.",
           "name": "permanence",
           "notes": "Claims 51 years with potential economic incentives for longer durations.",
           "rating": 0,
           "type": "Metric",
           "units": "years",
           "value": 51
          },
          {
           "comment": "Can reasonably be considered an investment in a new technology to lower the cost of reforestation and aforestation, rather than an investment in a particular project.",
           "name": "additionality",
           "notes": "Counterfactual is reforesting manually or not at all.",
           "rating": "",
           "type": "Metric",
           "units": "",
           "value": 1
          },
          {
           "comment": "Costs of $500.20/tCO2 were reported using only the carbon removal expected in 2020. Over the project lifetime, however, an estimated 64,031 tCO2 will be removed. We have adjusted the reported $/tCO2 value to reflect standard industry practice of using total expected benefits across the project's lifetime in order to facilitate comparison with other forestry projects.",
           "name": "cost",
           "notes": "",
           "rating": 1,
           "type": "Metric",
           "units": "$/tCO2",
           "value": 3.98
          },
          {
           "comment": "Public project description is thorough, but specific data on project location pending, and no publications or public data are available on the approach.",
           "name": "transparency",
           "notes": "",
           "rating": "",
           "type": "Metric",
           "units": "",
           "value": 0
          }
         ],
         "name": "Droneseed",
         "score": "7",
         "source": {
          "name": "Stripe Decrement 2020",
          "url": "https://stripe.com/climate"
         },
         "tags": [
          "forests",
          "reforestation"
         ],
         "type": "Project"
        },
        {
         "description": "Reforestation projects with verification and monitoring.",
         "geometry": {
          "type": null
         },
         "id": "STRP08",
         "location": {
          "geometry": {
           "type": null
          },
          "name": "Uruguay & CA, USA"
         },
         "metrics": [
          {
           "avoided": 1,
           "comment": "",
           "name": "mechanism",
           "notes": "Supports verification and evaluation of forest projects, avoiding emissions due to forest loss and removing atmospheric carbon for sequestration in forests and forest products.",
           "rating": 1,
           "removal": 1,
           "type": "Metric",
           "units": "",
           "value": ""
          },
          {
           "comment": "Sequestration rates of 16 and 26 tCO2 / ha / year are within bounds of independent estimates. No evidence provided for specific utility of advanced monitoring methods for improving volume estimates.",
           "name": "volume",
           "notes": "Volume is the total of two exemplar projects, Rip's Redwoods and Guanare. The Pachama platform offers a larger portfolio of projects, but they are not considered here.",
           "rating": 0,
           "type": "Metric",
           "units": "tCO2",
           "value": 165850
          },
          {
           "comment": "Self-reported value appears unreasonably high, but not enough data is provided for validation. We report the lowest, most conservative ratio, but based on project type, we would expect a much higher ratio.",
           "emissions": "N/A",
           "kind": "N/A",
           "name": "negativity",
           "notes": "Claims a range of 0.19 to 0.59 across exemplar projects.",
           "rating": 0,
           "removal": "N/A",
           "type": "Metric",
           "units": "",
           "value": 0.19
          },
          {
           "comment": "We report the minimum across the estimated permanence for the underlying projects (46 and 97), relative to the current year. Standard forest carbon permanence risk considerations apply, and risks of wildfire are high for one of the projects. Stated minimum time horizon could be better assured through contractual agreements with buyers.",
           "name": "permanence",
           "notes": "Claims 60 years from 2006 for one project and 100 years from 2013 for the other.",
           "rating": 0,
           "type": "Metric",
           "units": "years",
           "value": 46
          },
          {
           "comment": "Guanare afforestation project began in 2006. Rip's Redwood project already credited for standing carbon stock above regional baseline, which indicates a promise not to harvest normally and therefore raises questions about the additionality of ongoing carbon removal credits.",
           "name": "additionality",
           "notes": "Counterfactual scenarios specified for both projects.",
           "rating": "",
           "type": "Metric",
           "units": "",
           "value": 0
          },
          {
           "comment": "Cost commensurate with similar forest projects.",
           "name": "cost",
           "notes": "",
           "rating": 1,
           "type": "Metric",
           "units": "$/tCO2",
           "value": 8
          },
          {
           "comment": "No public details on projects other than shapefiles, and no public or published materials on quantification methods.",
           "name": "transparency",
           "notes": "",
           "rating": "",
           "type": "Metric",
           "units": "",
           "value": 0
          }
         ],
         "name": "Pachama Rip's Redwoods and Guanare",
         "score": "5",
         "source": {
          "name": "Stripe Decrement 2020",
          "url": "https://stripe.com/climate"
         },
         "tags": [
          "forests",
          "broker"
         ],
         "type": "Project"
        },
        {
         "description": "Wave-powered upwelling/downwelling for carbon​ sequestration.",
         "geometry": {
          "type": null
         },
         "id": "STRP09",
         "location": {
          "geometry": {
           "type": null
          },
          "name": "Pacific Ocean (offshore of CA)"
         },
         "metrics": [
          {
           "avoided": 0,
           "comment": "Novel early-stage technology with pilot demonstrations still in progress.",
           "name": "mechanism",
           "notes": "Removes carbon from atmosphere via sequestration in phytoplankton and transport of phytoplankton biomass to deep ocean.",
           "rating": 0,
           "removal": 1,
           "type": "Metric",
           "units": "",
           "value": ""
          },
          {
           "comment": "Difficult to assess volume due to early stage of technology.",
           "name": "volume",
           "notes": "Demonstration project to be deployed offshore California or Hawaii. Project volume based on expected carbon removal over five years.",
           "rating": 0,
           "type": "Metric",
           "units": "tCO2",
           "value": 693
          },
          {
           "comment": "Project emissions specified in detail, although technology is early-stage and experimental.",
           "emissions": 3.6854,
           "kind": "project",
           "name": "negativity",
           "notes": "",
           "rating": 0,
           "removal": 697,
           "type": "Metric",
           "units": "",
           "value": 0.995
          },
          {
           "comment": "Carbon dioxide removed to lower ocean depths can be stable for millenia, but over the long run will affect ocean acidity and be exposed to surface-atmosphere interactions. Unlike geologic storage this stock has an implied end date for effectivess, albeit a potentially very distant one.",
           "name": "permanence",
           "notes": "Claims a maximum of 5000 but with unknown reductions due to the potential for outgassing.",
           "rating": 0,
           "type": "Metric",
           "units": "years",
           "value": 1000
          },
          {
           "comment": "The only reason to implement a project like this is to generate climate benefits, and no such projects are operating today.",
           "name": "additionality",
           "notes": "Counterfactual not applicable.",
           "rating": "",
           "type": "Metric",
           "units": "",
           "value": 2
          },
          {
           "comment": "No cost comparisons available due to uniqueness of technology.",
           "name": "cost",
           "notes": "",
           "rating": 0,
           "type": "Metric",
           "units": "$/tCO2",
           "value": 336.07
          },
          {
           "comment": "Reasonably thorough description of technology with references, but no publications or public data on demonstration projects.",
           "name": "transparency",
           "notes": "",
           "rating": "",
           "type": "Metric",
           "units": "",
           "value": 0
          }
         ],
         "name": "Ocean-based Climate Solutions",
         "score": "5",
         "source": {
          "name": "Stripe Decrement 2020",
          "url": "https://stripe.com/climate"
         },
         "tags": [
          "ocean",
          "phytoplankton"
         ],
         "type": "Project"
        },
        {
         "description": "Regenerative land management.",
         "geometry": {
          "type": null
         },
         "id": "STRP10",
         "location": {
          "geometry": {
           "type": null
          },
          "name": ""
         },
         "metrics": [
          {
           "avoided": 0,
           "comment": "",
           "name": "mechanism",
           "notes": "Broker that facilitates removal of carbon from the atmosphere by incentivizing changes in agricultural practices that increase sequestration in soils.",
           "rating": 1,
           "removal": 1,
           "type": "Metric",
           "units": "",
           "value": ""
          },
          {
           "comment": "Lack of detail on projects raises questions about overall volume, but per 2.5 tCO2 / ha / year is consistent with existing literature and models.",
           "name": "volume",
           "notes": "Specific projects not identified. Claimed volume reflects 10-30 plots totaling 13355 ha with an average of 2.5 tCO2 / ha / year.",
           "rating": 0,
           "type": "Metric",
           "units": "tCO2",
           "value": 33000
          },
          {
           "comment": "No clear connection expressed between detailed, project-level expectations and promised future study. Net LCA impacts depend crucially on methane emissions from livestock and no GWP conversion information reported.",
           "emissions": "N/A",
           "kind": "N/A",
           "name": "negativity",
           "notes": "Reported ratio only provisional, with amended results to be determined in a future study.",
           "rating": 0,
           "removal": "N/A",
           "type": "Metric",
           "units": "",
           "value": 0.5
          },
          {
           "comment": "Soil carbon storage can be reversed by changed land management practices. Soil Value Exchange requires 10-year contractual commitments, so we report the minimum of the contractual agreement and the biogeophysical reality.",
           "name": "permanence",
           "notes": "Claims 1000+ years in the abscence of behavioral changes.",
           "rating": 1,
           "type": "Metric",
           "units": "years",
           "value": 10
          },
          {
           "comment": "Not enough information available about participating projects and their past practices to confirm.",
           "name": "additionality",
           "notes": "Counterfactual could include conventional grazing and intensive feedlot grazing, but no projects identified and no historical practices identified at specific project sites.",
           "rating": "",
           "type": "Metric",
           "units": "",
           "value": 0
          },
          {
           "comment": "Cost appears to include payments to farmers and monitoring, veritification, and reporting, but no breakdown is specified.",
           "name": "cost",
           "notes": "",
           "rating": 0,
           "type": "Metric",
           "units": "$/tCO2",
           "value": 30
          },
          {
           "comment": "No public details on projects, no public or published details on planned quantification methods.",
           "name": "transparency",
           "notes": "",
           "rating": "",
           "type": "Metric",
           "units": "",
           "value": 0
          }
         ],
         "name": "Soil Value Exchange",
         "score": "5",
         "source": {
          "name": "Stripe Decrement 2020",
          "url": "https://stripe.com/climate"
         },
         "tags": [
          "soil",
          "broker"
         ],
         "type": "Project"
        },
        {
         "description": "CO2 removal with olivine.",
         "geometry": {
          "type": null
         },
         "id": "STRP11",
         "location": {
          "geometry": {
           "type": null
          },
          "name": "Netherlands"
         },
         "metrics": [
          {
           "avoided": 0,
           "comment": "",
           "name": "mechanism",
           "notes": "Project removes carbon from atmosphere through enhanced weathering of olivine and serpentine.",
           "rating": 1,
           "removal": 1,
           "type": "Metric",
           "units": "",
           "value": ""
          },
          {
           "comment": "Based on public details on project website, expected weathering for deposits since 2007 totals 306 tCO2, so claimed number may be reasonable depending on assumed timeframe.",
           "name": "volume",
           "notes": "Not clear whether calculated volume is based on expected weathering in 1 year or 100 year.",
           "rating": 0,
           "type": "Metric",
           "units": "tCO2",
           "value": 1000
          },
          {
           "comment": "For consistency, we recompute negativity only for the carbon removal component, yielding a lower number. Detailed analysis only available for one exemplar project, so uncertainty remains for full project portfolio.",
           "emissions": 750,
           "kind": "project",
           "name": "negativity",
           "notes": "Reported ratio for exemplar project based on 2,880 tCO2 removed, 750 tCO2 emitted, and 509 tCO2 avoided.",
           "rating": 0,
           "removal": 2880,
           "type": "Metric",
           "units": "",
           "value": 0.74
          },
          {
           "comment": "Successful mineralization produces reliable, effectively permanent carbon storage.",
           "name": "permanence",
           "notes": "",
           "rating": 1,
           "type": "Metric",
           "units": "years",
           "value": 1000
          },
          {
           "comment": "Carbon removal certificates are offered separately from the olivine sand purchase, because olivine sand will be purchased and used, with the reported use indicated on certificate.",
           "name": "additionality",
           "notes": "Counterfactual is using alternative rocks without carbon removal benefits.",
           "rating": "",
           "type": "Metric",
           "units": "",
           "value": 0
          },
          {
           "comment": "Cost at the lower end relative to existing approaches. Appears to mainly reflect mining activity and logistics.",
           "name": "cost",
           "notes": "",
           "rating": 1,
           "type": "Metric",
           "units": "$/tCO2",
           "value": 35
          },
          {
           "comment": "Several project details (including locations and durations) are publicly available.",
           "name": "transparency",
           "notes": "",
           "rating": "",
           "type": "Metric",
           "units": "",
           "value": 1
          }
         ],
         "name": "GreenSand",
         "score": "6",
         "source": {
          "name": "Stripe Decrement 2020",
          "url": "https://stripe.com/climate"
         },
         "tags": [
          "mineralization",
          "building materials"
         ],
         "type": "Project"
        },
        {
         "description": "Forest carbon rental markets.",
         "geometry": {
          "type": null
         },
         "id": "STRP12",
         "location": {
          "geometry": {
           "type": null
          },
          "name": "Southern USA"
         },
         "metrics": [
          {
           "avoided": 1,
           "comment": "",
           "name": "mechanism",
           "notes": "Facilities removing carbon from the atmosphere by extending time between forest harvests, avoiding emissions due to harvests and sequestering additional carbon in forests and forest products.",
           "rating": 1,
           "removal": 1,
           "type": "Metric",
           "units": "",
           "value": ""
          },
          {
           "comment": "Volume estimates will be relatively straightforward via stocking estimates given the 1 year duration. Plausibility of total number depends entirely on the number of particpants.",
           "name": "volume",
           "notes": "Volume extrapolated from a pilot implementation in 6 counties in Pennsylvania. Projects in 2020 will be sourced from 11 southern US states. Supply will be allocated via an auction.",
           "rating": 0,
           "type": "Metric",
           "units": "tCO2",
           "value": 15000000
          },
          {
           "comment": "No reason to consider additional emissions given program design.",
           "emissions": 1,
           "kind": "ratio",
           "name": "negativity",
           "notes": "Emissions estimates based soley on the operations of the small team that will run the program.",
           "rating": 1,
           "removal": 1000,
           "type": "Metric",
           "units": "",
           "value": 0.999
          },
          {
           "comment": "Given the annual contracting model, we report 1 year as the minimum of the contract duration and any other potential estimate.",
           "name": "permanence",
           "notes": "Claims 1 to 10 years.",
           "rating": 1,
           "type": "Metric",
           "units": "years",
           "value": 1
          },
          {
           "comment": "By shifting to a ton-year accounting framework, SilviaTerra intends to avoid additionality concerns by measuring actual carbon stored each year. However, other factors, such as exogenous shifts in timber markets, can still affect additionality considerations with respect to forest harvest decisions. Proprietary methods for measurement and verification against field plots were not available at the time of this proposal.",
           "name": "additionality",
           "notes": "Counteractual is active forest product harvest.",
           "rating": "",
           "type": "Metric",
           "units": "",
           "value": 1
          },
          {
           "comment": "SilviaTerra uses a ton-year accounting that reflects the cost per tCO2 stored per year. Thus, assuming constant price, a contract to store 10 tCO2 for 1 year at $15/tCO2-year would cost $150 and a contract to store 10 tCO2 for 100 years would cost $15,000.",
           "name": "cost",
           "notes": "",
           "rating": 1,
           "type": "Metric",
           "units": "$/tCO2-year",
           "value": 15
          },
          {
           "comment": "No public details on specific projects or methods for project quantification or selection are currently available.",
           "name": "transparency",
           "notes": "",
           "rating": "",
           "type": "Metric",
           "units": "",
           "value": 0
          }
         ],
         "name": "SilviaTerra",
         "score": "7",
         "source": {
          "name": "Stripe Decrement 2020",
          "url": "https://stripe.com/climate"
         },
         "tags": [
          "forests",
          "avoided conversion"
         ],
         "type": "Project"
        },
        {
         "description": "Conversion of annual cropland to sheep/chestnut silvopasture.",
         "geometry": {
          "type": null
         },
         "id": "STRP13",
         "location": {
          "geometry": {
           "type": null
          },
          "name": "Johnsonville, NY, USA"
         },
         "metrics": [
          {
           "avoided": 0,
           "comment": "",
           "name": "mechanism",
           "notes": "Project integrates tree crops and grazing livestock as silvopasture systems, to sequester carbon in both soil and aboveground biomass.",
           "rating": 1,
           "removal": 1,
           "type": "Metric",
           "units": "",
           "value": ""
          },
          {
           "comment": "We report the average of the range. Methods publicly described but not yet independently validated. Overall rate of 12.1 tCO2 / ha is consistent with existing litearture.",
           "name": "volume",
           "notes": "Volume estimated as range based on calculations using USDA COMET-Planner model (56 tCO2) and Eric Toensmeier's The Carbon Farming Solution (Chelsea Green Books, 2016) (140 tCO2). Reflects 3.2 current ha and 4.9 ha to be added.",
           "rating": 1,
           "type": "Metric",
           "units": "tCO2",
           "value": 98
          },
          {
           "comment": "Ratios are consistent with reforestation projects, but lifecycle boundaries are not explicit. Specifically, no detail provided on methane emissions from livestock expansion and/or any soil carbon benefits.",
           "emissions": 1,
           "kind": "project",
           "name": "negativity",
           "notes": "",
           "rating": 0,
           "removal": 56,
           "type": "Metric",
           "units": "",
           "value": 0.982
          },
          {
           "comment": "We report 30 as the minimum of the claimed range. Location has relatively low physical risk, and land is owned by project proponent. Stated minimum time horizon could be assured in a contract with a buyer.",
           "name": "permanence",
           "notes": "Claims 30 to 100 years.",
           "rating": 1,
           "type": "Metric",
           "units": "years",
           "value": 30
          },
          {
           "comment": "No analysis available in public materials.",
           "name": "additionality",
           "notes": "Counterfactual not specified.",
           "rating": "",
           "type": "Metric",
           "units": "",
           "value": 1
          },
          {
           "comment": "Cost is conservative as it is based on total costs divided by a lower bound on volume estimate. The average cost per acre in year 1 of each project is $3,500.",
           "name": "cost",
           "notes": "",
           "rating": 1,
           "type": "Metric",
           "units": "$/tCO2",
           "value": 100
          },
          {
           "comment": "Methods publicly described and shapefiles for locations provided, but model parameters and life cycle boundaries are missing.",
           "name": "transparency",
           "notes": "",
           "rating": "",
           "type": "Metric",
           "units": "",
           "value": 1
          }
         ],
         "name": "Breadtree Farms",
         "score": "8",
         "source": {
          "name": "Stripe Decrement 2020",
          "url": "https://stripe.com/climate"
         },
         "tags": [
          "forests",
          "agroforestry"
         ],
         "type": "Project"
        },
        {
         "description": "Biochar production through pyrolysis.",
         "geometry": {
          "type": null
         },
         "id": "STRP14",
         "location": {
          "geometry": {
           "type": null
          },
          "name": "South Sweden"
         },
         "metrics": [
          {
           "avoided": 1,
           "comment": "",
           "name": "mechanism",
           "notes": "Avoids emissions from decomposing biomass resources and transforms them into long-lived biochar materials.",
           "rating": 1,
           "removal": 0,
           "type": "Metric",
           "units": "",
           "value": ""
          },
          {
           "comment": "Volume is based on producing 1,746 tC of biochar with fraction C of 78%.",
           "name": "volume",
           "notes": "Biochar produced from established production facility.",
           "rating": 0,
           "type": "Metric",
           "units": "tCO2",
           "value": 5000
          },
          {
           "comment": "Boundary conditions well specified and LCA components detailed and referenced.",
           "emissions": 0.0455,
           "kind": "ratio",
           "name": "negativity",
           "notes": "Reported ratio based on 0.046 tCO2 emitted for 2.79 tCO2 stored, including electricity for pre-treatment, transport, and electricity for pyrolysis. Project uses low-carbon electricity from the Nordic grid for pelletizing and pyrolysis.",
           "rating": 1,
           "removal": 2.7885,
           "type": "Metric",
           "units": "",
           "value": 0.984
          },
          {
           "comment": "Permanence of biochar depends on chemical composition, storage conditons, and other factors. Using the reported O:C ratio of 0.039 we estimate 100 years as the duration during which 90% of biochar C remains.",
           "name": "permanence",
           "notes": "Claims 500 to 4000 years.",
           "rating": 1,
           "type": "Metric",
           "units": "years",
           "value": 500
          },
          {
           "comment": "Feedstock is agricultural (seed) waste. No analysis provided of competing uses for feedstock.",
           "name": "additionality",
           "notes": "Counterfactual not specified.",
           "rating": "",
           "type": "Metric",
           "units": "",
           "value": 1
          },
          {
           "comment": "Cost is commensurate with other biochar projects.",
           "name": "cost",
           "notes": "",
           "rating": 1,
           "type": "Metric",
           "units": "$/tCO2",
           "value": 100
          },
          {
           "comment": "Reasonable details provided on project specifics, uses public methods from Puro for LCA, but no Puro audit statement available.",
           "name": "transparency",
           "notes": "",
           "rating": "",
           "type": "Metric",
           "units": "",
           "value": 1
          }
         ],
         "name": "Ecoera",
         "score": "8",
         "source": {
          "name": "Stripe Decrement 2020",
          "url": "https://stripe.com/climate"
         },
         "tags": [
          "biomass",
          "biochar"
         ],
         "type": "Project"
        },
        {
         "description": "Laminated log production from lumber with CO2 sequestration.",
         "geometry": {
          "type": null
         },
         "id": "STRP15",
         "location": {
          "geometry": {
           "type": null
          },
          "name": "Finland"
         },
         "metrics": [
          {
           "avoided": 1,
           "comment": "",
           "name": "mechanism",
           "notes": "Avoids emissions from decomposing biomass and sequesters carbon in laminated wood building materials. May also avoid emissions that would come from producing other materials.",
           "rating": 1,
           "removal": 0,
           "type": "Metric",
           "units": "",
           "value": ""
          },
          {
           "comment": "Volume seems plausible but difficult to assess without more production details.",
           "name": "volume",
           "notes": "Volume sourced from multiple facilities across Finland to produce laminated lumber from kiln-dried pine and spruce. Claims an annueal production capacity of 40,000 tCO2 but with verification pending.",
           "rating": 0,
           "type": "Metric",
           "units": "tCO2",
           "value": 35000
          },
          {
           "comment": "Analysis performed by third-party with public detailed and verified by Puro. Appears well specified.",
           "emissions": 0.159,
           "kind": "ratio",
           "name": "negativity",
           "notes": "Reported ratio based on 0.16 tCO2 emissions for 0.71 tCO2 stored. Boundary conditions include raw materials through production stage. Excludes transport of finished materials and construction-related emissions.",
           "rating": 1,
           "removal": 0.71,
           "type": "Metric",
           "units": "",
           "value": 0.776
          },
          {
           "comment": "Wood carbon stored in building materials is more durable than in forests. We still report 50 as the minimum of the claimed range.",
           "name": "permanence",
           "notes": "Claims 50 to 200 years.",
           "rating": 1,
           "type": "Metric",
           "units": "years",
           "value": 50
          },
          {
           "comment": "No specific analysis available.",
           "name": "additionality",
           "notes": "Counterfactual is either decomposing biomass resources or using to generate heat or electrical energy.",
           "rating": "",
           "type": "Metric",
           "units": "",
           "value": 1
          },
          {
           "comment": "Difficult to assess cost without more information on building material market, but comparable with similar projects.",
           "name": "cost",
           "notes": "",
           "rating": 0,
           "type": "Metric",
           "units": "$/tCO2",
           "value": 20
          },
          {
           "comment": "Public documentation on LCA is available with verification provided by Puro, but few public details on manufacturing process.",
           "name": "transparency",
           "notes": "",
           "rating": "",
           "type": "Metric",
           "units": "",
           "value": 1
          }
         ],
         "name": "Finnish Log House Industry Association",
         "score": "7",
         "source": {
          "name": "Stripe Decrement 2020",
          "url": "https://stripe.com/climate"
         },
         "tags": [
          "biomass",
          "building materials"
         ],
         "type": "Project"
        },
        {
         "description": "Net-negative wood products.",
         "geometry": {
          "type": null
         },
         "id": "STRP16",
         "location": {
          "geometry": {
           "type": null
          },
          "name": "Kouvola, Finland"
         },
         "metrics": [
          {
           "avoided": 1,
           "comment": "",
           "name": "mechanism",
           "notes": "Avoids emissions from decomposing biomass and sequesters carbon in wood-based blown fiber used for insulation.",
           "rating": 1,
           "removal": 0,
           "type": "Metric",
           "units": "",
           "value": ""
          },
          {
           "comment": "Volume seems plausible but difficult to assess without more production details.",
           "name": "volume",
           "notes": "Volume sourced from multiple facilities across Finland.",
           "rating": 0,
           "type": "Metric",
           "units": "tCO2",
           "value": 21847
          },
          {
           "comment": "Analysis performed by third-party with public detailed and verified by Puro. Appears well specified.",
           "emissions": 0.087,
           "kind": "ratio",
           "name": "negativity",
           "notes": "Reported ratio based on 0.087 tCO2 emissions for 1.34 tCO2 stored. Includesraw materials through production stage. Excludes transport of finished materials and construction-related emissions.",
           "rating": 1,
           "removal": 1.34,
           "type": "Metric",
           "units": "",
           "value": 0.935
          },
          {
           "comment": "Wood carbon stored in building materials is more durable than in forests. We still report 50 as the minimum of the claimed range.",
           "name": "permanence",
           "notes": "Claims 50 to 400 years.",
           "rating": 0,
           "type": "Metric",
           "units": "years",
           "value": 50
          },
          {
           "comment": "Existing industry has been in produciton since the 1980s.",
           "name": "additionality",
           "notes": "Counterfactual not specified.",
           "rating": "",
           "type": "Metric",
           "units": "",
           "value": 1
          },
          {
           "comment": "Difficult to assess cost without more information on building material market, but comparable with similar projects.",
           "name": "cost",
           "notes": "",
           "rating": 0,
           "type": "Metric",
           "units": "$/tCO2",
           "value": 21.5
          },
          {
           "comment": "Public documentation on LCA is available with verification provided by Puro, but few public details on manufacturing process.",
           "name": "transparency",
           "notes": "",
           "rating": "",
           "type": "Metric",
           "units": "",
           "value": 1
          }
         ],
         "name": "Ekovilla",
         "score": "6",
         "source": {
          "name": "Stripe Decrement 2020",
          "url": "https://stripe.com/climate"
         },
         "tags": [
          "biomass",
          "building materials"
         ],
         "type": "Project"
        },
        {
         "description": "Biochar and carbon negative energy.",
         "geometry": {
          "type": null
         },
         "id": "STRP17",
         "location": {
          "geometry": {
           "type": null
          },
          "name": "Tampere, Finland"
         },
         "metrics": [
          {
           "avoided": 1,
           "comment": "",
           "name": "mechanism",
           "notes": "Avoids emissions from biomass resources and transforms them into long-lived biochar materials.",
           "rating": 1,
           "removal": 0,
           "type": "Metric",
           "units": "",
           "value": ""
          },
          {
           "comment": "Volume is based on producing 681 tC of biochar with fraction C of 92%. Referenced Puro verification reports a different removal rate (3.1 tCO2 stored for 1 t of biochar rather than 3.4 tCO2), implying a fraction C of 85%.",
           "name": "volume",
           "notes": "Volume sourced from a biochar facility in Finland.",
           "rating": 0,
           "type": "Metric",
           "units": "tCO2",
           "value": 2000
          },
          {
           "comment": "Boundary conditions well specified and LCA components detailed and referenced.",
           "emissions": 0.17,
           "kind": "ratio",
           "name": "negativity",
           "notes": "Reported ratio based on 0.17 tCO2 emitted for 3.4 tCO2 stored. Includes fossil emissions for transporation and pyrolosis. Excludes 1.69 tCO2 emissions from biogenic sources, and does not include transporation to customer.",
           "rating": 1,
           "removal": 3.4,
           "type": "Metric",
           "units": "",
           "value": 0.95
          },
          {
           "comment": "Permanence of biochar depends on chemical composition and storage conditons. Using the reported O:C ratio of 0.021 we estimate 100 years as the duration during which 90% of biochar C remains.",
           "name": "permanence",
           "notes": "Claims 100 to 5000 years.",
           "rating": 1,
           "type": "Metric",
           "units": "years",
           "value": 100
          },
          {
           "comment": "Feedstock is residual wood (thinnings). No analysis provided of competing uses for feedstock.",
           "name": "additionality",
           "notes": "Counterfactual not specified.",
           "rating": "",
           "type": "Metric",
           "units": "",
           "value": 1
          },
          {
           "comment": "Cost is commensurate with other biochar projects.",
           "name": "cost",
           "notes": "",
           "rating": 1,
           "type": "Metric",
           "units": "$/tCO2",
           "value": 100
          },
          {
           "comment": "Reasonable details provided on project specifics, public documentation on chemical composition and LCA is available, with verification provided by Puro.",
           "name": "transparency",
           "notes": "",
           "rating": "",
           "type": "Metric",
           "units": "",
           "value": 2
          }
         ],
         "name": "Carbofex",
         "score": "9",
         "source": {
          "name": "Stripe Decrement 2020",
          "url": "https://stripe.com/climate"
         },
         "tags": [
          "biomass",
          "biochar"
         ],
         "type": "Project"
        },
        {
         "description": "Producing bricks and slips by carbonation.",
         "geometry": {
          "type": null
         },
         "id": "STRP18",
         "location": {
          "geometry": {
           "type": null
          },
          "name": "Finland"
         },
         "metrics": [
          {
           "avoided": 1,
           "comment": "",
           "name": "mechanism",
           "notes": "Removes carbon from atmosphere and sequesters in mineralized building materials. Also avoided emissions from producing substitute, conventinal building materials.",
           "rating": 1,
           "removal": 1,
           "type": "Metric",
           "units": "",
           "value": ""
          },
          {
           "comment": "",
           "name": "volume",
           "notes": "Volume based on initial production of 100 tons of underlying product.",
           "rating": 0,
           "type": "Metric",
           "units": "tCO2",
           "value": 10
          },
          {
           "comment": "Lacking more detail we report the lowest, most conservative ratio.",
           "emissions": "N/A",
           "kind": "N/A",
           "name": "negativity",
           "notes": "Claims a range of possible ratios from 0.2 to 0.6 but provides no specifics, noting the process can be adjusted to produce different levels of carbon removal relative to emissions.",
           "rating": 0,
           "removal": "N/A",
           "type": "Metric",
           "units": "",
           "value": 0.2
          },
          {
           "comment": "Hard to evaluate without more details, but successful mineralization should produce reliable, effectively permanent carbon storage.",
           "name": "permanence",
           "notes": "Claims complete permanence. Mentions resesarch partner for analysis, but no specifics provided.",
           "rating": 0,
           "type": "Metric",
           "units": "years",
           "value": 1000
          },
          {
           "comment": "Project involves initial production from carbon negative building materials using relatively expensive CO2 inputs (€75/tCO2).",
           "name": "additionality",
           "notes": "Counterfactual not specified.",
           "rating": "",
           "type": "Metric",
           "units": "",
           "value": 2
          },
          {
           "comment": "Difficult to assess cost without more information on market.",
           "name": "cost",
           "notes": "",
           "rating": 0,
           "type": "Metric",
           "units": "$/tCO2",
           "value": 20
          },
          {
           "comment": "Few project details are provided and most appear to be pending future validation.",
           "name": "transparency",
           "notes": "",
           "rating": "",
           "type": "Metric",
           "units": "",
           "value": 0
          }
         ],
         "name": "Vandersanden",
         "score": "6",
         "source": {
          "name": "Stripe Decrement 2020",
          "url": "https://stripe.com/climate"
         },
         "tags": [
          "mineralization",
          "building materials"
         ],
         "type": "Project"
        },
        {
         "description": "Reforestation offset model.",
         "geometry": {
          "type": null
         },
         "id": "STRP19",
         "location": {
          "geometry": {
           "type": null
          },
          "name": "Scotland"
         },
         "metrics": [
          {
           "avoided": 1,
           "comment": "",
           "name": "mechanism",
           "notes": "Removes carbon from atmosphere for sequestration in forest and soil carbon stocks, and avoids emissions from lost forest carbon.",
           "rating": 1,
           "removal": 1,
           "type": "Metric",
           "units": "",
           "value": ""
          },
          {
           "comment": "Project provides references, but claimed volume per hectare exceeds most published estimates.",
           "name": "volume",
           "notes": "Volume projected for a 174 ha land project in Scotland. Claimed breakdown of total volume includes 18.3 - 25.7 tCO2 / ha / year for above ground biomass, 7.3 - 25.7 tCO2E / ha / year for soil carbon, and 11 - 22 tCO2 / ha / year for biochar.",
           "rating": 0,
           "type": "Metric",
           "units": "tCO2",
           "value": 6380
          },
          {
           "comment": "Boundary conditions and emission sources well specified, and consistent with similar projects.",
           "emissions": 29.72,
           "kind": "project",
           "name": "negativity",
           "notes": "Emission calculations based on one-time planting and fencing emissions amortized over 60 years. Various ongoing operations including raising pigs and transporation.",
           "rating": 1,
           "removal": 6380,
           "type": "Metric",
           "units": "",
           "value": 0.995
          },
          {
           "comment": "Project involves both soil and forest carbon, so standard forest carbon and soil permanence risk considerations apply. Location has relatively low physical risk, and land is owned by project proponent. Although claimed minimum is 100, we report 60 as it as mentioned as a plausible minimum specifically for forests. Stated minimum time horizon could be assured in a contract with a buyer.",
           "name": "permanence",
           "notes": "Claims 100 to 1000 years.",
           "rating": 1,
           "type": "Metric",
           "units": "years",
           "value": 60
          },
          {
           "comment": "No specific analysis provided.",
           "name": "additionality",
           "notes": "Counterfactual not specified, but appears to involve \"degraded\" land remaining degraded.",
           "rating": "",
           "type": "Metric",
           "units": "",
           "value": 0
          },
          {
           "comment": "Costs driven by land price, tree costs, and labour. Commensurate with similar projects.",
           "name": "cost",
           "notes": "",
           "rating": 1,
           "type": "Metric",
           "units": "$/tCO2",
           "value": 20
          },
          {
           "comment": "Reasonably thorough description of project and site, but additional public materials would be useful (e.g. shapefiles).",
           "name": "transparency",
           "notes": "",
           "rating": "",
           "type": "Metric",
           "units": "",
           "value": 1
          }
         ],
         "name": "Future Forest",
         "score": "7",
         "source": {
          "name": "Stripe Decrement 2020",
          "url": "https://stripe.com/climate"
         },
         "tags": [
          "forests",
          "reforestation"
         ],
         "type": "Project"
        },
        {
         "description": "Carbon sequestration via logging and wood burial.",
         "geometry": {
          "type": null
         },
         "id": "STRP20",
         "location": {
          "geometry": {
           "type": null
          },
          "name": "East Texas, USA"
         },
         "metrics": [
          {
           "avoided": 1,
           "comment": "Somewhat speculative technology and pilot pit has yet to be constructed.",
           "name": "mechanism",
           "notes": "Avoids biomass emissions by burying wood waste in covered pits.",
           "rating": 0,
           "removal": 0,
           "type": "Metric",
           "units": "",
           "value": ""
          },
          {
           "comment": "May be plausible if sufficient slash volume can be obtained, but hard to evaluate lacking a pilot project.",
           "name": "volume",
           "notes": "Volume based on loblolly pine waste (slash) to be stored in partially above-ground sealed pits. Total claimed volume reflects pit capacity of 71,019 tCO2.",
           "rating": 0,
           "type": "Metric",
           "units": "tCO2",
           "value": 71019
          },
          {
           "comment": "Boundary appears to include transporation and operations. Relatively few details provided.",
           "emissions": 6804,
           "kind": "project",
           "name": "negativity",
           "notes": "Reported ratio based on 6,804 tCO2 emitted for 71,019 tCO2 stored.",
           "rating": 0,
           "removal": 71019,
           "type": "Metric",
           "units": "",
           "value": 0.904
          },
          {
           "comment": "Pits are partially above-ground. Risks of emission leakage or anaerobic decomposition not addressed comprehensively.",
           "name": "permanence",
           "notes": "Claims 99% of carbon is permanent at 100 years and 88% is permanent at 100 years.",
           "rating": -1,
           "type": "Metric",
           "units": "years",
           "value": 100
          },
          {
           "comment": "No commercial value to storing wood waste in pits. However, no analysis provided of alternative feedstock uses such as bioenergy.",
           "name": "additionality",
           "notes": "Counterfactual not specified.",
           "rating": "",
           "type": "Metric",
           "units": "",
           "value": 1
          },
          {
           "comment": "Costs based on purchase of slash ($5) transportation ($5) chipping ($10) pit construction ($10.50) and verification ($12.00). Appear plausible but not justified.",
           "name": "cost",
           "notes": "",
           "rating": 0,
           "type": "Metric",
           "units": "$/tCO2",
           "value": 42.5
          },
          {
           "comment": "No publications on technique other than a speculative research proposal, no public data on demonstration projects.",
           "name": "transparency",
           "notes": "",
           "rating": "",
           "type": "Metric",
           "units": "",
           "value": 0
          }
         ],
         "name": "Carbon Sequestration Inc",
         "score": "4",
         "source": {
          "name": "Stripe Decrement 2020",
          "url": "https://stripe.com/climate"
         },
         "tags": [
          "forests",
          "burial"
         ],
         "type": "Project"
        },
        {
         "description": "Protecting forest carbon stock.",
         "geometry": {
          "type": null
         },
         "id": "STRP21",
         "location": {
          "geometry": {
           "coordinates": [
            -81.851,
            36.442
           ],
           "type": "Point"
          },
          "name": "Mountain City, TN, USA"
         },
         "metrics": [
          {
           "avoided": 1,
           "comment": "",
           "name": "mechanism",
           "notes": "Avoids emissions from forest loss and removes carbon from the atmosphere for sequestration in forest carbon.",
           "rating": 1,
           "removal": 1,
           "type": "Metric",
           "units": "",
           "value": ""
          },
          {
           "comment": "Methods for quantiying existing stocks well documented. Estimates of 167 tCO2 / ha for standing stock and 2.2 - 4.5 tCO2 / ha / year for future growth falls within a plausible range.",
           "name": "volume",
           "notes": "Improved forest management project on 8,485 acres on state-owned land in Tennessee. Project is projected to generate 770,543 tCO2 beneifts over 20 years, the dominant majority of which (545,254 tCO2 or 71%) are avoided emissions from forest harvesting. An 18% risk buffer pool is set aside to mitigate against potential reversals, producing a net expected removal of 631,845 tCO2. No specific method for calculating forest carbon benefits identified. Buffer pool calculated using American Carbon Registry methods.",
           "rating": 1,
           "type": "Metric",
           "units": "tCO2",
           "value": 631845
          },
          {
           "comment": "High ratio is consistent with similar projects.",
           "emissions": 40.7,
           "kind": "project",
           "name": "negativity",
           "notes": "Reported ratio based on 40.7 tCO2 emitted for 631,845 tCO2 claimed. Project-level emissions mainly reflect monitoring emissions. Removal used in ratio includes deduction of 18% buffer pool.",
           "rating": 1,
           "removal": 631845,
           "type": "Metric",
           "units": "",
           "value": 1
          },
          {
           "comment": "Project appears to occur over 40 year period, so we report that as the permanence. Assertion of 82% likelihood of \"permanent\" storage is implausible given risks of forest carbon over long time horizons, though physical risks based on location are low.",
           "name": "permanence",
           "notes": "Claims 82% likelihood of permanent storage.",
           "rating": 0,
           "type": "Metric",
           "units": "years",
           "value": 40
          },
          {
           "comment": "By the end of 2020, 56% of total project climate benefits will have been earned via avoided harvest. Thus, the project has already committed to avoid harvest and therefore the expected carbon removal is later years is already assured.",
           "name": "additionality",
           "notes": "Counterfactual is harvest of most forest carbon over the period 2018-2021.",
           "rating": "",
           "type": "Metric",
           "units": "",
           "value": 0
          },
          {
           "comment": "Costs commensurate with similar projects.",
           "name": "cost",
           "notes": "",
           "rating": 1,
           "type": "Metric",
           "units": "$/tCO2",
           "value": 8
          },
          {
           "comment": "Fairly detailed project information available in multiple public sources (Stripe Decrement proposal and American Carbon Registry). Shapefiles could not be found.",
           "name": "transparency",
           "notes": "",
           "rating": "",
           "type": "Metric",
           "units": "",
           "value": 1
          }
         ],
         "name": "Bluesource Doe Mountain",
         "score": "7",
         "source": {
          "name": "Stripe Decrement 2020",
          "url": "https://stripe.com/climate"
         },
         "tags": [
          "forests",
          "avoided conversion"
         ],
         "type": "Project"
        },
        {
         "description": "Bamboo reforestation and engineered lumber.",
         "geometry": {
          "type": null
         },
         "id": "STRP22",
         "location": {
          "geometry": {
           "type": null
          },
          "name": "Philippines"
         },
         "metrics": [
          {
           "avoided": 0,
           "comment": "",
           "name": "mechanism",
           "notes": "Project removes carbon from atmosphere for sequestration in bamboo and bamboo building materials.",
           "rating": 1,
           "removal": 1,
           "type": "Metric",
           "units": "",
           "value": ""
          },
          {
           "comment": "Inferred rate of 15.7 tCO2 / ha / year for the first year of growth is plausible given published allometric estimates for similar bamboo species.",
           "name": "volume",
           "notes": "Volume based on a 1,000 ha pilot, using an unspecified Verified Carbon Standard protocol for calculations. Total includes both 15,680 tCO2 based on reforestation and 4,020 tCO2 based on storage of existing culms.",
           "rating": 1,
           "type": "Metric",
           "units": "tCO2",
           "value": 19700
          },
          {
           "comment": "Difficult to evaluate without more specific information. Lack of details on the manufacturing process raise questions about the high ratio.",
           "emissions": "N/A",
           "kind": "N/A",
           "name": "negativity",
           "notes": "Minimal information reported.",
           "rating": 0,
           "removal": "N/A",
           "type": "Metric",
           "units": "",
           "value": 0.98
          },
          {
           "comment": "We report the minimum across all claimed ranges. Physical risk to fire may be low for bamboo, but standard permanence risks for forests apply.",
           "name": "permanence",
           "notes": "Project projects permanence of 80 years for bamboo clumps and 50-100 years for engineered wood products.",
           "rating": 0,
           "type": "Metric",
           "units": "years",
           "value": 50
          },
          {
           "comment": "Project claims that bamboo building materials have reached parity with conventional wood products. This suggests bamboo planting may not require climate policy incentives. No analysis of competing economics of conventional wood products, alternative land management options.",
           "name": "additionality",
           "notes": "Counterfactual not specified. Project appears to target degraded land and suggests alternative land uses, such as native forest plantations, might be feasible but would produce lower overall carbon removal services due to bamboo's extremely high annual productivity.",
           "rating": "",
           "type": "Metric",
           "units": "",
           "value": 0
          },
          {
           "comment": "Costs commensurate with other forest projects, but building material production component is not clearly specified.",
           "name": "cost",
           "notes": "",
           "rating": 0,
           "type": "Metric",
           "units": "$/tCO2",
           "value": 10
          },
          {
           "comment": "Fairly minimal project details provided, especially around engineered lumber products, and project refers to VCS standard that has yet to be released.",
           "name": "transparency",
           "notes": "",
           "rating": "",
           "type": "Metric",
           "units": "",
           "value": 0
          }
         ],
         "name": "Rizome",
         "score": "5",
         "source": {
          "name": "Stripe Decrement 2020",
          "url": "https://stripe.com/climate"
         },
         "tags": [
          "forests",
          "building materials"
         ],
         "type": "Project"
        },
        {
         "description": "Accelerating olivine weathering with wave power for CO2 removal.",
         "geometry": {
          "type": null
         },
         "id": "STRP23",
         "location": {
          "geometry": {
           "type": null
          },
          "name": "Caribbean"
         },
         "metrics": [
          {
           "avoided": 0,
           "comment": "",
           "name": "mechanism",
           "notes": "Project removes carbon from atmosphere through enhanced weathering of olivine.",
           "rating": 1,
           "removal": 1,
           "type": "Metric",
           "units": "",
           "value": ""
          },
          {
           "comment": "Volumes can be more reliably estimated following pilot demonstrations.",
           "name": "volume",
           "notes": "Volume projected based on total crushed olivine supply to pilot project site.",
           "rating": 0,
           "type": "Metric",
           "units": "tCO2",
           "value": 200
          },
          {
           "comment": "Boundary conditions well specified and references documented. High ratio depends on eliminating need for secondary and tertiary grinding, which remains to be proven.",
           "emissions": 0.049,
           "kind": "project",
           "name": "negativity",
           "notes": "Project claims higher negativity ratio than other mineralization projects by using wave energy to displace secondary and tertiary grinding of olivine to small particles needed for carbon removal.",
           "rating": 0,
           "removal": 1.25,
           "type": "Metric",
           "units": "",
           "value": 0.961
          },
          {
           "comment": "Successful mineralization produces reliable, effectively permanent carbon storage.",
           "name": "permanence",
           "notes": "Claims 100k - 100M years.",
           "rating": 1,
           "type": "Metric",
           "units": "years",
           "value": 1000
          },
          {
           "comment": "Project would only be pursued for carbon removal purposes. No intrinsic commerical value.",
           "name": "additionality",
           "notes": "Counterfactual not applicable.",
           "rating": "",
           "type": "Metric",
           "units": "",
           "value": 2
          },
          {
           "comment": "Costs commensurate with similar projects.",
           "name": "cost",
           "notes": "",
           "rating": 1,
           "type": "Metric",
           "units": "$/tCO2",
           "value": 50
          },
          {
           "comment": "Project details provided in public proposal with several public white papers and references. Further detail could be provided through pubilc data on pilot deployments.",
           "name": "transparency",
           "notes": "",
           "rating": "",
           "type": "Metric",
           "units": "",
           "value": 1
          }
         ],
         "name": "Project Vesta",
         "score": "8",
         "source": {
          "name": "Stripe Decrement 2020",
          "url": "https://stripe.com/climate"
         },
         "tags": [
          "mineralization",
          "ocean"
         ],
         "type": "Project"
        }
       ],
       "type": "ProjectCollection"
      },
      "text/plain": [
       "<IPython.core.display.JSON object>"
      ]
     },
     "execution_count": 4,
     "metadata": {
      "application/json": {
       "expanded": false,
       "root": "project_collection"
      }
     },
     "output_type": "execute_result"
    }
   ],
   "source": [
    "project_collection = requests.get('https://api.carbonplan.now.sh/projects').json()\n",
    "JSON(project_collection, root='project_collection')"
   ]
  },
  {
   "cell_type": "markdown",
   "metadata": {},
   "source": [
    "Individual projects can be requested using query parameters. In the example below, we point our API request at `id=STRP01`:"
   ]
  },
  {
   "cell_type": "code",
   "execution_count": 5,
   "metadata": {},
   "outputs": [
    {
     "data": {
      "application/json": {
       "description": "Direct air capture and mineralization.",
       "geometry": {
        "type": null
       },
       "id": "STRP01",
       "location": {
        "geometry": {
         "type": null
        },
        "name": "Iceland"
       },
       "metrics": [
        {
         "avoided": 0,
         "comment": "",
         "name": "mechanism",
         "notes": "Remove carbon from the atmosphere using a solid chemical sorbent and thermal swing. Carbon dioxide from that process is geologically sequestered in mineral form.",
         "rating": 1,
         "removal": 1,
         "type": "Metric",
         "units": "",
         "value": ""
        },
        {
         "comment": "Scale of volume is commensurate with published sorbent technology.",
         "name": "volume",
         "notes": "Volume based on the annual capacity of a pilot plant in Iceland commissioned in October 2017. Larger-scale plants are under construction that may have larger volume.",
         "rating": 1,
         "type": "Metric",
         "units": "tCO2",
         "value": 50
        },
        {
         "comment": "Minimal justification provided, and detailed assessment in collaboration with research group is pending publication. Low ratio likely depends on availability of low-carbon energy in Iceland.",
         "emissions": 0.1,
         "kind": "ratio",
         "name": "negativity",
         "notes": "Claims total emissions are 0.1 tCO2 for every 1 tCO2 removed.",
         "rating": 0,
         "removal": 1,
         "type": "Metric",
         "units": "",
         "value": 0.9
        },
        {
         "comment": "Successful mineralization produces reliable, effectively permanent carbon storage.",
         "name": "permanence",
         "notes": "",
         "rating": 1,
         "type": "Metric",
         "units": "years",
         "value": 1000
        },
        {
         "comment": "Project is already fully subscribed, so any new investments are better construed as investments in future projects rather than fully additional procurements.",
         "name": "additionality",
         "notes": "Counterfactual not applicable.",
         "rating": "",
         "type": "Metric",
         "units": "",
         "value": 2
        },
        {
         "comment": "Commensurate with other early stage DAC costs on a $/tCO2 basis. Could be independently verified as a function of technology parameters and energy sources.",
         "name": "cost",
         "notes": "",
         "rating": 1,
         "type": "Metric",
         "units": "$/tCO2",
         "value": 767.5
        },
        {
         "comment": "Publications on LCA are pending and no publications or public datasets on technology are avaialble.",
         "name": "transparency",
         "notes": "",
         "rating": "",
         "type": "Metric",
         "units": "",
         "value": 1
        }
       ],
       "name": "Climeworks",
       "score": "9",
       "source": {
        "name": "Stripe Decrement 2020",
        "url": "https://stripe.com/climate"
       },
       "tags": [
        "dac",
        "mineralization"
       ],
       "type": "Project"
      },
      "text/plain": [
       "<IPython.core.display.JSON object>"
      ]
     },
     "execution_count": 5,
     "metadata": {
      "application/json": {
       "expanded": false,
       "root": "root"
      }
     },
     "output_type": "execute_result"
    }
   ],
   "source": [
    "one_project = requests.get('https://api.carbonplan.now.sh/projects?id=STRP01').json()\n",
    "JSON(one_project)"
   ]
  },
  {
   "cell_type": "markdown",
   "metadata": {},
   "source": [
    "### Sample Analysis\n",
    "\n",
    "Now that we've gone over how to access CarbonPlan's API, we can turn to some sample analysis. Here we'll simply take the full project collection (defined above) and dump it into a `pandas.DataFrame`."
   ]
  },
  {
   "cell_type": "code",
   "execution_count": 6,
   "metadata": {},
   "outputs": [
    {
     "data": {
      "text/html": [
       "<div>\n",
       "<style scoped>\n",
       "    .dataframe tbody tr th:only-of-type {\n",
       "        vertical-align: middle;\n",
       "    }\n",
       "\n",
       "    .dataframe tbody tr th {\n",
       "        vertical-align: top;\n",
       "    }\n",
       "\n",
       "    .dataframe thead th {\n",
       "        text-align: right;\n",
       "    }\n",
       "</style>\n",
       "<table border=\"1\" class=\"dataframe\">\n",
       "  <thead>\n",
       "    <tr style=\"text-align: right;\">\n",
       "      <th></th>\n",
       "      <th>type</th>\n",
       "      <th>name</th>\n",
       "      <th>metrics</th>\n",
       "      <th>geometry</th>\n",
       "      <th>tags</th>\n",
       "      <th>description</th>\n",
       "      <th>score</th>\n",
       "      <th>location</th>\n",
       "      <th>source</th>\n",
       "    </tr>\n",
       "    <tr>\n",
       "      <th>id</th>\n",
       "      <th></th>\n",
       "      <th></th>\n",
       "      <th></th>\n",
       "      <th></th>\n",
       "      <th></th>\n",
       "      <th></th>\n",
       "      <th></th>\n",
       "      <th></th>\n",
       "      <th></th>\n",
       "    </tr>\n",
       "  </thead>\n",
       "  <tbody>\n",
       "    <tr>\n",
       "      <th>STRP01</th>\n",
       "      <td>Project</td>\n",
       "      <td>Climeworks</td>\n",
       "      <td>[{'type': 'Metric', 'name': 'mechanism', 'valu...</td>\n",
       "      <td>{'type': None}</td>\n",
       "      <td>[dac, mineralization]</td>\n",
       "      <td>Direct air capture and mineralization.</td>\n",
       "      <td>9</td>\n",
       "      <td>{'name': 'Iceland', 'geometry': {'type': None}}</td>\n",
       "      <td>{'name': 'Stripe Decrement 2020', 'url': 'http...</td>\n",
       "    </tr>\n",
       "    <tr>\n",
       "      <th>STRP02</th>\n",
       "      <td>Project</td>\n",
       "      <td>CarbonCure</td>\n",
       "      <td>[{'type': 'Metric', 'name': 'mechanism', 'valu...</td>\n",
       "      <td>{'type': None}</td>\n",
       "      <td>[mineralization, building materials]</td>\n",
       "      <td>Carbon reductions in concrete.</td>\n",
       "      <td>9</td>\n",
       "      <td>{'name': 'North America', 'geometry': {'type':...</td>\n",
       "      <td>{'name': 'Stripe Decrement 2020', 'url': 'http...</td>\n",
       "    </tr>\n",
       "    <tr>\n",
       "      <th>STRP03</th>\n",
       "      <td>Project</td>\n",
       "      <td>Nori Harborview Farms</td>\n",
       "      <td>[{'type': 'Metric', 'name': 'mechanism', 'valu...</td>\n",
       "      <td>{'type': None}</td>\n",
       "      <td>[soil, broker]</td>\n",
       "      <td>Increasing soil carbon sequestration and soil ...</td>\n",
       "      <td>6</td>\n",
       "      <td>{'name': 'USA', 'geometry': {'type': None}}</td>\n",
       "      <td>{'name': 'Stripe Decrement 2020', 'url': 'http...</td>\n",
       "    </tr>\n",
       "    <tr>\n",
       "      <th>STRP04</th>\n",
       "      <td>Project</td>\n",
       "      <td>IndigoAg</td>\n",
       "      <td>[{'type': 'Metric', 'name': 'mechanism', 'valu...</td>\n",
       "      <td>{'type': None}</td>\n",
       "      <td>[soil, broker]</td>\n",
       "      <td>Rgenerative farming practices for soil carbon ...</td>\n",
       "      <td>2</td>\n",
       "      <td>{'name': 'Mid-West and Southern USA', 'geometr...</td>\n",
       "      <td>{'name': 'Stripe Decrement 2020', 'url': 'http...</td>\n",
       "    </tr>\n",
       "    <tr>\n",
       "      <th>STRP05</th>\n",
       "      <td>Project</td>\n",
       "      <td>Biorecro</td>\n",
       "      <td>[{'type': 'Metric', 'name': 'mechanism', 'valu...</td>\n",
       "      <td>{'type': None}</td>\n",
       "      <td>[biomass, beccs]</td>\n",
       "      <td>Supporting bio-energy with carbon capture and ...</td>\n",
       "      <td>6</td>\n",
       "      <td>{'name': 'North America / Europe', 'geometry':...</td>\n",
       "      <td>{'name': 'Stripe Decrement 2020', 'url': 'http...</td>\n",
       "    </tr>\n",
       "  </tbody>\n",
       "</table>\n",
       "</div>"
      ],
      "text/plain": [
       "           type                   name  \\\n",
       "id                                       \n",
       "STRP01  Project             Climeworks   \n",
       "STRP02  Project             CarbonCure   \n",
       "STRP03  Project  Nori Harborview Farms   \n",
       "STRP04  Project               IndigoAg   \n",
       "STRP05  Project               Biorecro   \n",
       "\n",
       "                                                  metrics        geometry  \\\n",
       "id                                                                          \n",
       "STRP01  [{'type': 'Metric', 'name': 'mechanism', 'valu...  {'type': None}   \n",
       "STRP02  [{'type': 'Metric', 'name': 'mechanism', 'valu...  {'type': None}   \n",
       "STRP03  [{'type': 'Metric', 'name': 'mechanism', 'valu...  {'type': None}   \n",
       "STRP04  [{'type': 'Metric', 'name': 'mechanism', 'valu...  {'type': None}   \n",
       "STRP05  [{'type': 'Metric', 'name': 'mechanism', 'valu...  {'type': None}   \n",
       "\n",
       "                                        tags  \\\n",
       "id                                             \n",
       "STRP01                 [dac, mineralization]   \n",
       "STRP02  [mineralization, building materials]   \n",
       "STRP03                        [soil, broker]   \n",
       "STRP04                        [soil, broker]   \n",
       "STRP05                      [biomass, beccs]   \n",
       "\n",
       "                                              description score  \\\n",
       "id                                                                \n",
       "STRP01             Direct air capture and mineralization.     9   \n",
       "STRP02                     Carbon reductions in concrete.     9   \n",
       "STRP03  Increasing soil carbon sequestration and soil ...     6   \n",
       "STRP04  Rgenerative farming practices for soil carbon ...     2   \n",
       "STRP05  Supporting bio-energy with carbon capture and ...     6   \n",
       "\n",
       "                                                 location  \\\n",
       "id                                                          \n",
       "STRP01    {'name': 'Iceland', 'geometry': {'type': None}}   \n",
       "STRP02  {'name': 'North America', 'geometry': {'type':...   \n",
       "STRP03        {'name': 'USA', 'geometry': {'type': None}}   \n",
       "STRP04  {'name': 'Mid-West and Southern USA', 'geometr...   \n",
       "STRP05  {'name': 'North America / Europe', 'geometry':...   \n",
       "\n",
       "                                                   source  \n",
       "id                                                         \n",
       "STRP01  {'name': 'Stripe Decrement 2020', 'url': 'http...  \n",
       "STRP02  {'name': 'Stripe Decrement 2020', 'url': 'http...  \n",
       "STRP03  {'name': 'Stripe Decrement 2020', 'url': 'http...  \n",
       "STRP04  {'name': 'Stripe Decrement 2020', 'url': 'http...  \n",
       "STRP05  {'name': 'Stripe Decrement 2020', 'url': 'http...  "
      ]
     },
     "execution_count": 6,
     "metadata": {},
     "output_type": "execute_result"
    }
   ],
   "source": [
    "projects = pd.DataFrame.from_dict(project_collection['projects'], ).set_index('id')\n",
    "projects.head()"
   ]
  },
  {
   "cell_type": "markdown",
   "metadata": {},
   "source": [
    "You'll notice some columns still have nested JSON in them so we'll want to unpack them further. In the next cell we unpack the metrics into a `DataFrame` of its own."
   ]
  },
  {
   "cell_type": "code",
   "execution_count": 7,
   "metadata": {},
   "outputs": [
    {
     "data": {
      "text/html": [
       "<div>\n",
       "<style scoped>\n",
       "    .dataframe tbody tr th:only-of-type {\n",
       "        vertical-align: middle;\n",
       "    }\n",
       "\n",
       "    .dataframe tbody tr th {\n",
       "        vertical-align: top;\n",
       "    }\n",
       "\n",
       "    .dataframe thead th {\n",
       "        text-align: right;\n",
       "    }\n",
       "</style>\n",
       "<table border=\"1\" class=\"dataframe\">\n",
       "  <thead>\n",
       "    <tr style=\"text-align: right;\">\n",
       "      <th></th>\n",
       "      <th>mechanism</th>\n",
       "      <th>volume</th>\n",
       "      <th>negativity</th>\n",
       "      <th>permanence</th>\n",
       "      <th>additionality</th>\n",
       "      <th>cost</th>\n",
       "      <th>transparency</th>\n",
       "      <th>tag</th>\n",
       "      <th>name</th>\n",
       "    </tr>\n",
       "    <tr>\n",
       "      <th>id</th>\n",
       "      <th></th>\n",
       "      <th></th>\n",
       "      <th></th>\n",
       "      <th></th>\n",
       "      <th></th>\n",
       "      <th></th>\n",
       "      <th></th>\n",
       "      <th></th>\n",
       "      <th></th>\n",
       "    </tr>\n",
       "  </thead>\n",
       "  <tbody>\n",
       "    <tr>\n",
       "      <th>STRP01</th>\n",
       "      <td>NaN</td>\n",
       "      <td>50.0</td>\n",
       "      <td>0.900</td>\n",
       "      <td>1000.0</td>\n",
       "      <td>2.0</td>\n",
       "      <td>767.5</td>\n",
       "      <td>1.0</td>\n",
       "      <td>dac</td>\n",
       "      <td>Climeworks</td>\n",
       "    </tr>\n",
       "    <tr>\n",
       "      <th>STRP02</th>\n",
       "      <td>NaN</td>\n",
       "      <td>60000.0</td>\n",
       "      <td>0.824</td>\n",
       "      <td>1000.0</td>\n",
       "      <td>1.0</td>\n",
       "      <td>100.0</td>\n",
       "      <td>1.0</td>\n",
       "      <td>mineralization</td>\n",
       "      <td>CarbonCure</td>\n",
       "    </tr>\n",
       "    <tr>\n",
       "      <th>STRP03</th>\n",
       "      <td>NaN</td>\n",
       "      <td>14011.0</td>\n",
       "      <td>NaN</td>\n",
       "      <td>10.0</td>\n",
       "      <td>0.0</td>\n",
       "      <td>16.5</td>\n",
       "      <td>1.0</td>\n",
       "      <td>soil</td>\n",
       "      <td>Nori Harborview Farms</td>\n",
       "    </tr>\n",
       "    <tr>\n",
       "      <th>STRP04</th>\n",
       "      <td>NaN</td>\n",
       "      <td>550000.0</td>\n",
       "      <td>NaN</td>\n",
       "      <td>100.0</td>\n",
       "      <td>0.0</td>\n",
       "      <td>20.0</td>\n",
       "      <td>0.0</td>\n",
       "      <td>soil</td>\n",
       "      <td>IndigoAg</td>\n",
       "    </tr>\n",
       "    <tr>\n",
       "      <th>STRP05</th>\n",
       "      <td>NaN</td>\n",
       "      <td>50000.0</td>\n",
       "      <td>0.900</td>\n",
       "      <td>1000.0</td>\n",
       "      <td>1.0</td>\n",
       "      <td>99.0</td>\n",
       "      <td>0.0</td>\n",
       "      <td>biomass</td>\n",
       "      <td>Biorecro</td>\n",
       "    </tr>\n",
       "  </tbody>\n",
       "</table>\n",
       "</div>"
      ],
      "text/plain": [
       "        mechanism    volume  negativity  permanence  additionality   cost  \\\n",
       "id                                                                          \n",
       "STRP01        NaN      50.0       0.900      1000.0            2.0  767.5   \n",
       "STRP02        NaN   60000.0       0.824      1000.0            1.0  100.0   \n",
       "STRP03        NaN   14011.0         NaN        10.0            0.0   16.5   \n",
       "STRP04        NaN  550000.0         NaN       100.0            0.0   20.0   \n",
       "STRP05        NaN   50000.0       0.900      1000.0            1.0   99.0   \n",
       "\n",
       "        transparency             tag                   name  \n",
       "id                                                           \n",
       "STRP01           1.0             dac             Climeworks  \n",
       "STRP02           1.0  mineralization             CarbonCure  \n",
       "STRP03           1.0            soil  Nori Harborview Farms  \n",
       "STRP04           0.0            soil               IndigoAg  \n",
       "STRP05           0.0         biomass               Biorecro  "
      ]
     },
     "execution_count": 7,
     "metadata": {},
     "output_type": "execute_result"
    }
   ],
   "source": [
    "metrics = [m['name'] for m in projects.iloc[0].metrics]\n",
    "\n",
    "def get_metric(row, name='volume'):\n",
    "    ''' helper function to extract metric values by name '''\n",
    "    for m in row.metrics:\n",
    "        if m['name'] == name:\n",
    "            return m['value']\n",
    "\n",
    "metrics_df = pd.DataFrame({m: projects.apply(get_metric, name=m, axis=1) for m in metrics}).apply(pd.to_numeric, errors='coerce')\n",
    "metrics_df['tag'] = projects['tags'].apply(lambda x: x[0])\n",
    "metrics_df['name'] = projects['name']\n",
    "metrics_df.head()"
   ]
  },
  {
   "cell_type": "markdown",
   "metadata": {},
   "source": [
    "From here, we can start doing some real analysis and data visualization with our metrics `DataFrame`.\n",
    "\n",
    "In the section below, we simply make the three charts that are shown on https://reports.carbonplan.org. We use [Altair](https://altair-viz.github.io/) to make a few interactive vizualizations."
   ]
  },
  {
   "cell_type": "code",
   "execution_count": 8,
   "metadata": {},
   "outputs": [],
   "source": [
    "colors = {\n",
    "    'mineralization': '#a9b4c4',\n",
    "    'soil': '#ea9755',\n",
    "    'biomass': '#d4c05e',\n",
    "    'forests': '#7eb36a',\n",
    "    'ocean': '#64b9c4',\n",
    "    'dac': '#bc85d9'\n",
    "}\n",
    "color_scale = alt.Color('tag:N', scale=alt.Scale(domain=list(colors.keys()), range=list(colors.values())))\n",
    "tooltip = ['name', 'volume', 'cost', 'permanence', 'negativity']"
   ]
  },
  {
   "cell_type": "code",
   "execution_count": 9,
   "metadata": {},
   "outputs": [
    {
     "data": {
      "text/html": [
       "\n",
       "<div id=\"altair-viz-5cd7ecf813204cec95274b585ab81084\"></div>\n",
       "<script type=\"text/javascript\">\n",
       "  (function(spec, embedOpt){\n",
       "    const outputDiv = document.getElementById(\"altair-viz-5cd7ecf813204cec95274b585ab81084\");\n",
       "    const paths = {\n",
       "      \"vega\": \"https://cdn.jsdelivr.net/npm//vega@5?noext\",\n",
       "      \"vega-lib\": \"https://cdn.jsdelivr.net/npm//vega-lib?noext\",\n",
       "      \"vega-lite\": \"https://cdn.jsdelivr.net/npm//vega-lite@4.0.2?noext\",\n",
       "      \"vega-embed\": \"https://cdn.jsdelivr.net/npm//vega-embed@6?noext\",\n",
       "    };\n",
       "\n",
       "    function loadScript(lib) {\n",
       "      return new Promise(function(resolve, reject) {\n",
       "        var s = document.createElement('script');\n",
       "        s.src = paths[lib];\n",
       "        s.async = true;\n",
       "        s.onload = () => resolve(paths[lib]);\n",
       "        s.onerror = () => reject(`Error loading script: ${paths[lib]}`);\n",
       "        document.getElementsByTagName(\"head\")[0].appendChild(s);\n",
       "      });\n",
       "    }\n",
       "\n",
       "    function showError(err) {\n",
       "      outputDiv.innerHTML = `<div class=\"error\" style=\"color:red;\">${err}</div>`;\n",
       "      throw err;\n",
       "    }\n",
       "\n",
       "    function displayChart(vegaEmbed) {\n",
       "      vegaEmbed(outputDiv, spec, embedOpt)\n",
       "        .catch(err => showError(`Javascript Error: ${err.message}<br>This usually means there's a typo in your chart specification. See the javascript console for the full traceback.`));\n",
       "    }\n",
       "\n",
       "    if(typeof define === \"function\" && define.amd) {\n",
       "      requirejs.config({paths});\n",
       "      require([\"vega-embed\"], displayChart, err => showError(`Error loading script: ${err.message}`));\n",
       "    } else if (typeof vegaEmbed === \"function\") {\n",
       "      displayChart(vegaEmbed);\n",
       "    } else {\n",
       "      loadScript(\"vega\")\n",
       "        .then(() => loadScript(\"vega-lite\"))\n",
       "        .then(() => loadScript(\"vega-embed\"))\n",
       "        .catch(showError)\n",
       "        .then(() => displayChart(vegaEmbed));\n",
       "    }\n",
       "  })({\"config\": {\"view\": {\"continuousWidth\": 400, \"continuousHeight\": 300}, \"axis\": {\"grid\": false}}, \"hconcat\": [{\"mark\": {\"type\": \"circle\", \"size\": 200}, \"encoding\": {\"color\": {\"type\": \"nominal\", \"field\": \"tag\", \"scale\": {\"domain\": [\"mineralization\", \"soil\", \"biomass\", \"forests\", \"ocean\", \"dac\"], \"range\": [\"#a9b4c4\", \"#ea9755\", \"#d4c05e\", \"#7eb36a\", \"#64b9c4\", \"#bc85d9\"]}}, \"opacity\": {\"condition\": {\"value\": 1, \"selection\": {\"or\": [\"selector001\", \"selector002\"]}}, \"value\": 0.4}, \"tooltip\": [{\"type\": \"nominal\", \"field\": \"name\"}, {\"type\": \"quantitative\", \"field\": \"volume\"}, {\"type\": \"quantitative\", \"field\": \"cost\"}, {\"type\": \"quantitative\", \"field\": \"permanence\"}, {\"type\": \"quantitative\", \"field\": \"negativity\"}], \"x\": {\"type\": \"quantitative\", \"axis\": {\"tickCount\": 3, \"title\": \"COST $/tCO2\"}, \"field\": \"cost\", \"scale\": {\"domain\": [2, 2000], \"nice\": false, \"type\": \"log\"}}, \"y\": {\"type\": \"nominal\", \"axis\": {\"title\": \"\"}, \"field\": \"tag\"}}, \"height\": 250, \"selection\": {\"selector001\": {\"type\": \"interval\", \"encodings\": [\"x\", \"y\"]}, \"selector002\": {\"type\": \"multi\"}}, \"width\": 250}, {\"mark\": {\"type\": \"circle\", \"size\": 200}, \"encoding\": {\"color\": {\"type\": \"nominal\", \"field\": \"tag\", \"scale\": {\"domain\": [\"mineralization\", \"soil\", \"biomass\", \"forests\", \"ocean\", \"dac\"], \"range\": [\"#a9b4c4\", \"#ea9755\", \"#d4c05e\", \"#7eb36a\", \"#64b9c4\", \"#bc85d9\"]}}, \"opacity\": {\"condition\": {\"value\": 1, \"selection\": {\"or\": [\"selector001\", \"selector002\"]}}, \"value\": 0.4}, \"tooltip\": [{\"type\": \"nominal\", \"field\": \"name\"}, {\"type\": \"quantitative\", \"field\": \"volume\"}, {\"type\": \"quantitative\", \"field\": \"cost\"}, {\"type\": \"quantitative\", \"field\": \"permanence\"}, {\"type\": \"quantitative\", \"field\": \"negativity\"}], \"x\": {\"type\": \"quantitative\", \"axis\": {\"tickCount\": 3, \"title\": \"VOLUME tCO2\"}, \"field\": \"volume\", \"scale\": {\"domain\": [2, 100000000], \"type\": \"log\"}}, \"y\": {\"type\": \"nominal\", \"axis\": {\"title\": \"\"}, \"field\": \"tag\"}}, \"height\": 250, \"selection\": {\"selector001\": {\"type\": \"interval\", \"encodings\": [\"x\", \"y\"]}, \"selector002\": {\"type\": \"multi\"}}, \"width\": 250}, {\"mark\": {\"type\": \"circle\", \"size\": 200}, \"encoding\": {\"color\": {\"type\": \"nominal\", \"field\": \"tag\", \"scale\": {\"domain\": [\"mineralization\", \"soil\", \"biomass\", \"forests\", \"ocean\", \"dac\"], \"range\": [\"#a9b4c4\", \"#ea9755\", \"#d4c05e\", \"#7eb36a\", \"#64b9c4\", \"#bc85d9\"]}}, \"opacity\": {\"condition\": {\"value\": 1, \"selection\": {\"or\": [\"selector001\", \"selector002\"]}}, \"value\": 0.4}, \"tooltip\": [{\"type\": \"nominal\", \"field\": \"name\"}, {\"type\": \"quantitative\", \"field\": \"volume\"}, {\"type\": \"quantitative\", \"field\": \"cost\"}, {\"type\": \"quantitative\", \"field\": \"permanence\"}, {\"type\": \"quantitative\", \"field\": \"negativity\"}], \"x\": {\"type\": \"quantitative\", \"axis\": {\"tickCount\": 2, \"title\": \"NEGATIVITY\"}, \"field\": \"negativity\", \"scale\": {\"domain\": [-0.1, 1.1]}}, \"y\": {\"type\": \"nominal\", \"axis\": {\"title\": \"\"}, \"field\": \"tag\"}}, \"height\": 250, \"selection\": {\"selector001\": {\"type\": \"interval\", \"encodings\": [\"x\", \"y\"]}, \"selector002\": {\"type\": \"multi\"}}, \"width\": 250}, {\"mark\": {\"type\": \"circle\", \"size\": 200}, \"encoding\": {\"color\": {\"type\": \"nominal\", \"field\": \"tag\", \"scale\": {\"domain\": [\"mineralization\", \"soil\", \"biomass\", \"forests\", \"ocean\", \"dac\"], \"range\": [\"#a9b4c4\", \"#ea9755\", \"#d4c05e\", \"#7eb36a\", \"#64b9c4\", \"#bc85d9\"]}}, \"opacity\": {\"condition\": {\"value\": 1, \"selection\": {\"or\": [\"selector001\", \"selector002\"]}}, \"value\": 0.4}, \"tooltip\": [{\"type\": \"nominal\", \"field\": \"name\"}, {\"type\": \"quantitative\", \"field\": \"volume\"}, {\"type\": \"quantitative\", \"field\": \"cost\"}, {\"type\": \"quantitative\", \"field\": \"permanence\"}, {\"type\": \"quantitative\", \"field\": \"negativity\"}], \"x\": {\"type\": \"quantitative\", \"axis\": {\"tickCount\": 3, \"title\": \"PERMANENCE years\"}, \"field\": \"permanence\", \"scale\": {\"domain\": [0.6, 2000], \"nice\": false, \"type\": \"log\"}}, \"y\": {\"type\": \"nominal\", \"axis\": {\"title\": \"\"}, \"field\": \"tag\"}}, \"height\": 250, \"selection\": {\"selector001\": {\"type\": \"interval\", \"encodings\": [\"x\", \"y\"]}, \"selector002\": {\"type\": \"multi\"}}, \"width\": 250}], \"data\": {\"name\": \"data-2f7887126c7cf3ffc3db70858e03ea26\"}, \"resolve\": {\"scale\": {\"y\": \"shared\"}}, \"$schema\": \"https://vega.github.io/schema/vega-lite/v4.0.2.json\", \"datasets\": {\"data-2f7887126c7cf3ffc3db70858e03ea26\": [{\"mechanism\": null, \"volume\": 50.0, \"negativity\": 0.9, \"permanence\": 1000.0, \"additionality\": 2.0, \"cost\": 767.5, \"transparency\": 1.0, \"tag\": \"dac\", \"name\": \"Climeworks\"}, {\"mechanism\": null, \"volume\": 60000.0, \"negativity\": 0.824, \"permanence\": 1000.0, \"additionality\": 1.0, \"cost\": 100.0, \"transparency\": 1.0, \"tag\": \"mineralization\", \"name\": \"CarbonCure\"}, {\"mechanism\": null, \"volume\": 14011.0, \"negativity\": null, \"permanence\": 10.0, \"additionality\": 0.0, \"cost\": 16.5, \"transparency\": 1.0, \"tag\": \"soil\", \"name\": \"Nori Harborview Farms\"}, {\"mechanism\": null, \"volume\": 550000.0, \"negativity\": null, \"permanence\": 100.0, \"additionality\": 0.0, \"cost\": 20.0, \"transparency\": 0.0, \"tag\": \"soil\", \"name\": \"IndigoAg\"}, {\"mechanism\": null, \"volume\": 50000.0, \"negativity\": 0.9, \"permanence\": 1000.0, \"additionality\": 1.0, \"cost\": 99.0, \"transparency\": 0.0, \"tag\": \"biomass\", \"name\": \"Biorecro\"}, {\"mechanism\": null, \"volume\": 62.0, \"negativity\": 0.965, \"permanence\": 100.0, \"additionality\": 1.0, \"cost\": 1000.0, \"transparency\": 0.0, \"tag\": \"biomass\", \"name\": \"Carbo Culture\"}, {\"mechanism\": null, \"volume\": 510.0, \"negativity\": 0.983, \"permanence\": 51.0, \"additionality\": 1.0, \"cost\": 3.98, \"transparency\": 0.0, \"tag\": \"forests\", \"name\": \"Droneseed\"}, {\"mechanism\": null, \"volume\": 165850.0, \"negativity\": 0.19, \"permanence\": 46.0, \"additionality\": 0.0, \"cost\": 8.0, \"transparency\": 0.0, \"tag\": \"forests\", \"name\": \"Pachama Rip's Redwoods and Guanare\"}, {\"mechanism\": null, \"volume\": 693.0, \"negativity\": 0.995, \"permanence\": 1000.0, \"additionality\": 2.0, \"cost\": 336.07, \"transparency\": 0.0, \"tag\": \"ocean\", \"name\": \"Ocean-based Climate Solutions\"}, {\"mechanism\": null, \"volume\": 33000.0, \"negativity\": 0.5, \"permanence\": 10.0, \"additionality\": 0.0, \"cost\": 30.0, \"transparency\": 0.0, \"tag\": \"soil\", \"name\": \"Soil Value Exchange\"}, {\"mechanism\": null, \"volume\": 1000.0, \"negativity\": 0.74, \"permanence\": 1000.0, \"additionality\": 0.0, \"cost\": 35.0, \"transparency\": 1.0, \"tag\": \"mineralization\", \"name\": \"GreenSand\"}, {\"mechanism\": null, \"volume\": 15000000.0, \"negativity\": 0.999, \"permanence\": 1.0, \"additionality\": 1.0, \"cost\": 15.0, \"transparency\": 0.0, \"tag\": \"forests\", \"name\": \"SilviaTerra\"}, {\"mechanism\": null, \"volume\": 98.0, \"negativity\": 0.982, \"permanence\": 30.0, \"additionality\": 1.0, \"cost\": 100.0, \"transparency\": 1.0, \"tag\": \"forests\", \"name\": \"Breadtree Farms\"}, {\"mechanism\": null, \"volume\": 5000.0, \"negativity\": 0.984, \"permanence\": 500.0, \"additionality\": 1.0, \"cost\": 100.0, \"transparency\": 1.0, \"tag\": \"biomass\", \"name\": \"Ecoera\"}, {\"mechanism\": null, \"volume\": 35000.0, \"negativity\": 0.776, \"permanence\": 50.0, \"additionality\": 1.0, \"cost\": 20.0, \"transparency\": 1.0, \"tag\": \"biomass\", \"name\": \"Finnish Log House Industry Association\"}, {\"mechanism\": null, \"volume\": 21847.0, \"negativity\": 0.935, \"permanence\": 50.0, \"additionality\": 1.0, \"cost\": 21.5, \"transparency\": 1.0, \"tag\": \"biomass\", \"name\": \"Ekovilla\"}, {\"mechanism\": null, \"volume\": 2000.0, \"negativity\": 0.95, \"permanence\": 100.0, \"additionality\": 1.0, \"cost\": 100.0, \"transparency\": 2.0, \"tag\": \"biomass\", \"name\": \"Carbofex\"}, {\"mechanism\": null, \"volume\": 10.0, \"negativity\": 0.2, \"permanence\": 1000.0, \"additionality\": 2.0, \"cost\": 20.0, \"transparency\": 0.0, \"tag\": \"mineralization\", \"name\": \"Vandersanden\"}, {\"mechanism\": null, \"volume\": 6380.0, \"negativity\": 0.995, \"permanence\": 60.0, \"additionality\": 0.0, \"cost\": 20.0, \"transparency\": 1.0, \"tag\": \"forests\", \"name\": \"Future Forest\"}, {\"mechanism\": null, \"volume\": 71019.0, \"negativity\": 0.904, \"permanence\": 100.0, \"additionality\": 1.0, \"cost\": 42.5, \"transparency\": 0.0, \"tag\": \"forests\", \"name\": \"Carbon Sequestration Inc\"}, {\"mechanism\": null, \"volume\": 631845.0, \"negativity\": 1.0, \"permanence\": 40.0, \"additionality\": 0.0, \"cost\": 8.0, \"transparency\": 1.0, \"tag\": \"forests\", \"name\": \"Bluesource Doe Mountain\"}, {\"mechanism\": null, \"volume\": 19700.0, \"negativity\": 0.98, \"permanence\": 50.0, \"additionality\": 0.0, \"cost\": 10.0, \"transparency\": 0.0, \"tag\": \"forests\", \"name\": \"Rizome\"}, {\"mechanism\": null, \"volume\": 200.0, \"negativity\": 0.961, \"permanence\": 1000.0, \"additionality\": 2.0, \"cost\": 50.0, \"transparency\": 1.0, \"tag\": \"mineralization\", \"name\": \"Project Vesta\"}]}}, {\"mode\": \"vega-lite\"});\n",
       "</script>"
      ],
      "text/plain": [
       "alt.HConcatChart(...)"
      ]
     },
     "execution_count": 9,
     "metadata": {},
     "output_type": "execute_result"
    }
   ],
   "source": [
    "# selectors\n",
    "brush = alt.selection_interval(encodings=['x', 'y'])\n",
    "click = alt.selection_multi()\n",
    "\n",
    "# chart\n",
    "chart = alt.Chart(metrics_df).mark_circle(size=200).encode(\n",
    "    color=color_scale,\n",
    "    opacity=alt.condition(brush | click, alt.OpacityValue(1), alt.OpacityValue(0.4)),\n",
    "    tooltip=tooltip\n",
    ").properties(\n",
    "    width=250,\n",
    "    height=250\n",
    ").add_selection(\n",
    "    brush, click\n",
    ")\n",
    "\n",
    "# hconcat\n",
    "(\n",
    "    chart.encode(\n",
    "        alt.X('cost', axis=alt.Axis(title='COST $/tCO2', tickCount=3), scale=alt.Scale(type='log', domain=[2, 2000], nice=False)),\n",
    "        alt.Y('tag', axis=alt.Axis(title=''))\n",
    "    ) |\n",
    "    chart.encode(\n",
    "        alt.X('volume', axis=alt.Axis(title='VOLUME tCO2', tickCount=3), scale=alt.Scale(type='log', domain=[2, 100000000])),\n",
    "        alt.Y('tag', axis=alt.Axis(title=''))\n",
    "    ) |\n",
    "    chart.encode(\n",
    "        alt.X('negativity', axis=alt.Axis(title='NEGATIVITY', tickCount=2), scale=alt.Scale(domain=[-0.1, 1.1])),\n",
    "        alt.Y('tag', axis=alt.Axis(title=''))\n",
    "    ) |\n",
    "    chart.encode(\n",
    "        alt.X('permanence', axis=alt.Axis(title='PERMANENCE years', tickCount=3), scale=alt.Scale(type='log', domain=[0.6, 2000], nice=False)),\n",
    "        alt.Y('tag', axis=alt.Axis(title='')))\n",
    ").configure_axis(grid=False).resolve_scale(\n",
    "    y='shared'\n",
    ")"
   ]
  },
  {
   "cell_type": "code",
   "execution_count": 10,
   "metadata": {},
   "outputs": [
    {
     "data": {
      "text/html": [
       "\n",
       "<div id=\"altair-viz-7590d032d83d409089642f2fc2937a57\"></div>\n",
       "<script type=\"text/javascript\">\n",
       "  (function(spec, embedOpt){\n",
       "    const outputDiv = document.getElementById(\"altair-viz-7590d032d83d409089642f2fc2937a57\");\n",
       "    const paths = {\n",
       "      \"vega\": \"https://cdn.jsdelivr.net/npm//vega@5?noext\",\n",
       "      \"vega-lib\": \"https://cdn.jsdelivr.net/npm//vega-lib?noext\",\n",
       "      \"vega-lite\": \"https://cdn.jsdelivr.net/npm//vega-lite@4.0.2?noext\",\n",
       "      \"vega-embed\": \"https://cdn.jsdelivr.net/npm//vega-embed@6?noext\",\n",
       "    };\n",
       "\n",
       "    function loadScript(lib) {\n",
       "      return new Promise(function(resolve, reject) {\n",
       "        var s = document.createElement('script');\n",
       "        s.src = paths[lib];\n",
       "        s.async = true;\n",
       "        s.onload = () => resolve(paths[lib]);\n",
       "        s.onerror = () => reject(`Error loading script: ${paths[lib]}`);\n",
       "        document.getElementsByTagName(\"head\")[0].appendChild(s);\n",
       "      });\n",
       "    }\n",
       "\n",
       "    function showError(err) {\n",
       "      outputDiv.innerHTML = `<div class=\"error\" style=\"color:red;\">${err}</div>`;\n",
       "      throw err;\n",
       "    }\n",
       "\n",
       "    function displayChart(vegaEmbed) {\n",
       "      vegaEmbed(outputDiv, spec, embedOpt)\n",
       "        .catch(err => showError(`Javascript Error: ${err.message}<br>This usually means there's a typo in your chart specification. See the javascript console for the full traceback.`));\n",
       "    }\n",
       "\n",
       "    if(typeof define === \"function\" && define.amd) {\n",
       "      requirejs.config({paths});\n",
       "      require([\"vega-embed\"], displayChart, err => showError(`Error loading script: ${err.message}`));\n",
       "    } else if (typeof vegaEmbed === \"function\") {\n",
       "      displayChart(vegaEmbed);\n",
       "    } else {\n",
       "      loadScript(\"vega\")\n",
       "        .then(() => loadScript(\"vega-lite\"))\n",
       "        .then(() => loadScript(\"vega-embed\"))\n",
       "        .catch(showError)\n",
       "        .then(() => displayChart(vegaEmbed));\n",
       "    }\n",
       "  })({\"config\": {\"view\": {\"continuousWidth\": 400, \"continuousHeight\": 300}, \"axis\": {\"grid\": false}}, \"hconcat\": [{\"mark\": {\"type\": \"circle\", \"size\": 200}, \"encoding\": {\"color\": {\"type\": \"nominal\", \"field\": \"tag\", \"scale\": {\"domain\": [\"mineralization\", \"soil\", \"biomass\", \"forests\", \"ocean\", \"dac\"], \"range\": [\"#a9b4c4\", \"#ea9755\", \"#d4c05e\", \"#7eb36a\", \"#64b9c4\", \"#bc85d9\"]}}, \"opacity\": {\"condition\": {\"value\": 1, \"selection\": {\"or\": [\"selector003\", \"selector004\"]}}, \"value\": 0.4}, \"tooltip\": [{\"type\": \"nominal\", \"field\": \"name\"}, {\"type\": \"quantitative\", \"field\": \"volume\"}, {\"type\": \"quantitative\", \"field\": \"cost\"}, {\"type\": \"quantitative\", \"field\": \"permanence\"}, {\"type\": \"quantitative\", \"field\": \"negativity\"}], \"x\": {\"type\": \"quantitative\", \"axis\": {\"tickCount\": 3, \"title\": \"VOLUME tCO2\"}, \"field\": \"volume\", \"scale\": {\"domain\": [2, 100000000], \"type\": \"log\"}}, \"y\": {\"type\": \"quantitative\", \"axis\": {\"tickCount\": 3, \"title\": \"COST $/tCO2\"}, \"field\": \"cost\", \"scale\": {\"domain\": [2, 2000], \"nice\": false, \"type\": \"log\"}}}, \"height\": 250, \"selection\": {\"selector003\": {\"type\": \"interval\", \"encodings\": [\"x\", \"y\"]}, \"selector004\": {\"type\": \"multi\"}}, \"width\": 250}, {\"mark\": {\"type\": \"circle\", \"size\": 200}, \"encoding\": {\"color\": {\"type\": \"nominal\", \"field\": \"tag\", \"scale\": {\"domain\": [\"mineralization\", \"soil\", \"biomass\", \"forests\", \"ocean\", \"dac\"], \"range\": [\"#a9b4c4\", \"#ea9755\", \"#d4c05e\", \"#7eb36a\", \"#64b9c4\", \"#bc85d9\"]}}, \"opacity\": {\"condition\": {\"value\": 1, \"selection\": {\"or\": [\"selector003\", \"selector004\"]}}, \"value\": 0.4}, \"tooltip\": [{\"type\": \"nominal\", \"field\": \"name\"}, {\"type\": \"quantitative\", \"field\": \"volume\"}, {\"type\": \"quantitative\", \"field\": \"cost\"}, {\"type\": \"quantitative\", \"field\": \"permanence\"}, {\"type\": \"quantitative\", \"field\": \"negativity\"}], \"x\": {\"type\": \"quantitative\", \"axis\": {\"tickCount\": 2, \"title\": \"NEGATIVITY\"}, \"field\": \"negativity\", \"scale\": {\"domain\": [-0.1, 1.1]}}, \"y\": {\"type\": \"nominal\", \"axis\": {\"title\": \"\"}, \"field\": \"tag\"}}, \"height\": 250, \"selection\": {\"selector003\": {\"type\": \"interval\", \"encodings\": [\"x\", \"y\"]}, \"selector004\": {\"type\": \"multi\"}}, \"width\": 250}, {\"mark\": {\"type\": \"circle\", \"size\": 200}, \"encoding\": {\"color\": {\"type\": \"nominal\", \"field\": \"tag\", \"scale\": {\"domain\": [\"mineralization\", \"soil\", \"biomass\", \"forests\", \"ocean\", \"dac\"], \"range\": [\"#a9b4c4\", \"#ea9755\", \"#d4c05e\", \"#7eb36a\", \"#64b9c4\", \"#bc85d9\"]}}, \"opacity\": {\"condition\": {\"value\": 1, \"selection\": {\"or\": [\"selector003\", \"selector004\"]}}, \"value\": 0.4}, \"tooltip\": [{\"type\": \"nominal\", \"field\": \"name\"}, {\"type\": \"quantitative\", \"field\": \"volume\"}, {\"type\": \"quantitative\", \"field\": \"cost\"}, {\"type\": \"quantitative\", \"field\": \"permanence\"}, {\"type\": \"quantitative\", \"field\": \"negativity\"}], \"x\": {\"type\": \"quantitative\", \"axis\": {\"tickCount\": 3, \"title\": \"PERMANENCE years\"}, \"field\": \"permanence\", \"scale\": {\"domain\": [0.6, 2000], \"nice\": false, \"type\": \"log\"}}, \"y\": {\"type\": \"nominal\", \"axis\": {\"title\": \"\"}, \"field\": \"tag\"}}, \"height\": 250, \"selection\": {\"selector003\": {\"type\": \"interval\", \"encodings\": [\"x\", \"y\"]}, \"selector004\": {\"type\": \"multi\"}}, \"width\": 250}], \"data\": {\"name\": \"data-2f7887126c7cf3ffc3db70858e03ea26\"}, \"resolve\": {\"scale\": {\"y\": \"shared\"}}, \"$schema\": \"https://vega.github.io/schema/vega-lite/v4.0.2.json\", \"datasets\": {\"data-2f7887126c7cf3ffc3db70858e03ea26\": [{\"mechanism\": null, \"volume\": 50.0, \"negativity\": 0.9, \"permanence\": 1000.0, \"additionality\": 2.0, \"cost\": 767.5, \"transparency\": 1.0, \"tag\": \"dac\", \"name\": \"Climeworks\"}, {\"mechanism\": null, \"volume\": 60000.0, \"negativity\": 0.824, \"permanence\": 1000.0, \"additionality\": 1.0, \"cost\": 100.0, \"transparency\": 1.0, \"tag\": \"mineralization\", \"name\": \"CarbonCure\"}, {\"mechanism\": null, \"volume\": 14011.0, \"negativity\": null, \"permanence\": 10.0, \"additionality\": 0.0, \"cost\": 16.5, \"transparency\": 1.0, \"tag\": \"soil\", \"name\": \"Nori Harborview Farms\"}, {\"mechanism\": null, \"volume\": 550000.0, \"negativity\": null, \"permanence\": 100.0, \"additionality\": 0.0, \"cost\": 20.0, \"transparency\": 0.0, \"tag\": \"soil\", \"name\": \"IndigoAg\"}, {\"mechanism\": null, \"volume\": 50000.0, \"negativity\": 0.9, \"permanence\": 1000.0, \"additionality\": 1.0, \"cost\": 99.0, \"transparency\": 0.0, \"tag\": \"biomass\", \"name\": \"Biorecro\"}, {\"mechanism\": null, \"volume\": 62.0, \"negativity\": 0.965, \"permanence\": 100.0, \"additionality\": 1.0, \"cost\": 1000.0, \"transparency\": 0.0, \"tag\": \"biomass\", \"name\": \"Carbo Culture\"}, {\"mechanism\": null, \"volume\": 510.0, \"negativity\": 0.983, \"permanence\": 51.0, \"additionality\": 1.0, \"cost\": 3.98, \"transparency\": 0.0, \"tag\": \"forests\", \"name\": \"Droneseed\"}, {\"mechanism\": null, \"volume\": 165850.0, \"negativity\": 0.19, \"permanence\": 46.0, \"additionality\": 0.0, \"cost\": 8.0, \"transparency\": 0.0, \"tag\": \"forests\", \"name\": \"Pachama Rip's Redwoods and Guanare\"}, {\"mechanism\": null, \"volume\": 693.0, \"negativity\": 0.995, \"permanence\": 1000.0, \"additionality\": 2.0, \"cost\": 336.07, \"transparency\": 0.0, \"tag\": \"ocean\", \"name\": \"Ocean-based Climate Solutions\"}, {\"mechanism\": null, \"volume\": 33000.0, \"negativity\": 0.5, \"permanence\": 10.0, \"additionality\": 0.0, \"cost\": 30.0, \"transparency\": 0.0, \"tag\": \"soil\", \"name\": \"Soil Value Exchange\"}, {\"mechanism\": null, \"volume\": 1000.0, \"negativity\": 0.74, \"permanence\": 1000.0, \"additionality\": 0.0, \"cost\": 35.0, \"transparency\": 1.0, \"tag\": \"mineralization\", \"name\": \"GreenSand\"}, {\"mechanism\": null, \"volume\": 15000000.0, \"negativity\": 0.999, \"permanence\": 1.0, \"additionality\": 1.0, \"cost\": 15.0, \"transparency\": 0.0, \"tag\": \"forests\", \"name\": \"SilviaTerra\"}, {\"mechanism\": null, \"volume\": 98.0, \"negativity\": 0.982, \"permanence\": 30.0, \"additionality\": 1.0, \"cost\": 100.0, \"transparency\": 1.0, \"tag\": \"forests\", \"name\": \"Breadtree Farms\"}, {\"mechanism\": null, \"volume\": 5000.0, \"negativity\": 0.984, \"permanence\": 500.0, \"additionality\": 1.0, \"cost\": 100.0, \"transparency\": 1.0, \"tag\": \"biomass\", \"name\": \"Ecoera\"}, {\"mechanism\": null, \"volume\": 35000.0, \"negativity\": 0.776, \"permanence\": 50.0, \"additionality\": 1.0, \"cost\": 20.0, \"transparency\": 1.0, \"tag\": \"biomass\", \"name\": \"Finnish Log House Industry Association\"}, {\"mechanism\": null, \"volume\": 21847.0, \"negativity\": 0.935, \"permanence\": 50.0, \"additionality\": 1.0, \"cost\": 21.5, \"transparency\": 1.0, \"tag\": \"biomass\", \"name\": \"Ekovilla\"}, {\"mechanism\": null, \"volume\": 2000.0, \"negativity\": 0.95, \"permanence\": 100.0, \"additionality\": 1.0, \"cost\": 100.0, \"transparency\": 2.0, \"tag\": \"biomass\", \"name\": \"Carbofex\"}, {\"mechanism\": null, \"volume\": 10.0, \"negativity\": 0.2, \"permanence\": 1000.0, \"additionality\": 2.0, \"cost\": 20.0, \"transparency\": 0.0, \"tag\": \"mineralization\", \"name\": \"Vandersanden\"}, {\"mechanism\": null, \"volume\": 6380.0, \"negativity\": 0.995, \"permanence\": 60.0, \"additionality\": 0.0, \"cost\": 20.0, \"transparency\": 1.0, \"tag\": \"forests\", \"name\": \"Future Forest\"}, {\"mechanism\": null, \"volume\": 71019.0, \"negativity\": 0.904, \"permanence\": 100.0, \"additionality\": 1.0, \"cost\": 42.5, \"transparency\": 0.0, \"tag\": \"forests\", \"name\": \"Carbon Sequestration Inc\"}, {\"mechanism\": null, \"volume\": 631845.0, \"negativity\": 1.0, \"permanence\": 40.0, \"additionality\": 0.0, \"cost\": 8.0, \"transparency\": 1.0, \"tag\": \"forests\", \"name\": \"Bluesource Doe Mountain\"}, {\"mechanism\": null, \"volume\": 19700.0, \"negativity\": 0.98, \"permanence\": 50.0, \"additionality\": 0.0, \"cost\": 10.0, \"transparency\": 0.0, \"tag\": \"forests\", \"name\": \"Rizome\"}, {\"mechanism\": null, \"volume\": 200.0, \"negativity\": 0.961, \"permanence\": 1000.0, \"additionality\": 2.0, \"cost\": 50.0, \"transparency\": 1.0, \"tag\": \"mineralization\", \"name\": \"Project Vesta\"}]}}, {\"mode\": \"vega-lite\"});\n",
       "</script>"
      ],
      "text/plain": [
       "alt.HConcatChart(...)"
      ]
     },
     "execution_count": 10,
     "metadata": {},
     "output_type": "execute_result"
    }
   ],
   "source": [
    "# selectors\n",
    "brush = alt.selection_interval(encodings=['x', 'y'])\n",
    "click = alt.selection_multi()\n",
    "\n",
    "# chart\n",
    "chart = alt.Chart(metrics_df).mark_circle(size=200).encode(\n",
    "    color=color_scale,\n",
    "    opacity=alt.condition(brush | click, alt.OpacityValue(1), alt.OpacityValue(0.4)),\n",
    "    tooltip=tooltip\n",
    ").properties(\n",
    "    width=250,\n",
    "    height=250\n",
    ").add_selection(\n",
    "    brush, click\n",
    ")\n",
    "\n",
    "# hconcat\n",
    "(\n",
    "    chart.encode(\n",
    "        alt.X('volume', axis=alt.Axis(title='VOLUME tCO2', tickCount=3), scale=alt.Scale(type='log', domain=[2, 100000000])),\n",
    "        alt.Y('cost', axis=alt.Axis(title='COST $/tCO2', tickCount=3), scale=alt.Scale(type='log', domain=[2, 2000], nice=False)),\n",
    "    ) |\n",
    "    chart.encode(\n",
    "        alt.X('negativity', axis=alt.Axis(title='NEGATIVITY', tickCount=2), scale=alt.Scale(domain=[-0.1, 1.1])),\n",
    "        alt.Y('tag', axis=alt.Axis(title=''))\n",
    "    ) |\n",
    "    chart.encode(\n",
    "        alt.X('permanence', axis=alt.Axis(title='PERMANENCE years', tickCount=3), scale=alt.Scale(type='log', domain=[0.6, 2000], nice=False)),\n",
    "        alt.Y('tag', axis=alt.Axis(title='')))\n",
    ").configure_axis(grid=False).resolve_scale(\n",
    "    y='shared'\n",
    ")"
   ]
  }
 ],
 "metadata": {
  "kernelspec": {
   "display_name": "carbonplan38",
   "language": "python",
   "name": "carbonplan38"
  },
  "language_info": {
   "codemirror_mode": {
    "name": "ipython",
    "version": 3
   },
   "file_extension": ".py",
   "mimetype": "text/x-python",
   "name": "python",
   "nbconvert_exporter": "python",
   "pygments_lexer": "ipython3",
   "version": "3.8.2"
  }
 },
 "nbformat": 4,
 "nbformat_minor": 4
}
